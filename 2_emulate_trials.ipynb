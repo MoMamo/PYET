{
 "cells": [
  {
   "cell_type": "markdown",
   "id": "035490b4-d724-4ec9-928d-9d82dc92115e",
   "metadata": {},
   "source": [
    "# to do:\n",
    "2.Sperate imputation from the read covariate section of the trial loop , so down the line, summary stats for the trials can be obtained from unimputed data\n",
    "\n",
    "\n",
    "X. systolic BP an some other covariates are saved in an inconsistent way. Make sure all variables are saved in a consitent format so reading and merging can be done easily, i.e. [\"patid\",\"eventdate\",\"value\"] fixed: through updating the data_dict structure\n"
   ]
  },
  {
   "cell_type": "code",
   "execution_count": 1,
   "id": "1ef12f7c-f314-484b-baa0-830e684286b0",
   "metadata": {},
   "outputs": [
    {
     "name": "stdout",
     "output_type": "stream",
     "text": [
      "None\n",
      "/home/mo/anaconda3/envs/emulatedTrial\n"
     ]
    }
   ],
   "source": [
    "import os\n",
    "spark_home=os.environ.get('SPARK_HOME',None)\n",
    "print(spark_home)\n",
    "import os\n",
    "java_home=os.environ.get('JAVA_HOME',None)\n",
    "print(java_home)"
   ]
  },
  {
   "cell_type": "code",
   "execution_count": 2,
   "id": "71600d01-60bd-4368-85ea-7a360c790ef6",
   "metadata": {},
   "outputs": [
    {
     "data": {
      "text/plain": [
       "['/home/shared/mo/HFclusters/dependencies',\n",
       " '/home/mo/anaconda3/envs/cprd/lib/python37.zip',\n",
       " '/home/mo/anaconda3/envs/cprd/lib/python3.7',\n",
       " '/home/mo/anaconda3/envs/cprd/lib/python3.7/lib-dynload',\n",
       " '',\n",
       " '/home/mo/anaconda3/envs/cprd/lib/python3.7/site-packages',\n",
       " '/home/mo/anaconda3/envs/cprd/lib/python3.7/site-packages/IPython/extensions',\n",
       " '/home/mo/.ipython']"
      ]
     },
     "execution_count": 2,
     "metadata": {},
     "output_type": "execute_result"
    }
   ],
   "source": [
    "os.environ[\"JAVA_HOME\"] = \"/usr/lib/jvm/java-8-openjdk-amd64/jre\"\n",
    "import sys\n",
    "sys.path"
   ]
  },
  {
   "cell_type": "code",
   "execution_count": 6,
   "id": "fe2afd39-7dd2-4ab2-95af-6c08607d977d",
   "metadata": {},
   "outputs": [],
   "source": [
    "import itertools\n",
    "import pandas as pd\n",
    "import numpy as np\n",
    "import sys \n",
    "import datetime\n",
    "sys.path.insert(0, '/home/shared/mo/HFclusters/dependencies/CPRD')\n",
    "\n",
    "\n",
    "from utils.yaml_act import yaml_load\n",
    "from utils.arg_parse import arg_paser\n",
    "from CPRD.config.spark import spark_init, read_parquet, read_txt, read_csv\n",
    "import pyspark.sql.functions as F\n",
    "from pyspark.sql.types import StructType,StructField, StringType, DateType\n",
    "from CPRD.functions import tables, merge, cohort_select,risk_prediction, modalities, MedicalDictionary, risk_prediction, predictor_extractor\n",
    "from pyspark.sql import Window\n",
    "import matplotlib.pyplot as plt\n",
    "import seaborn as sns\n",
    "from lifelines import KaplanMeierFitter\n",
    "import warnings\n",
    "import copy\n",
    "\n",
    "from pyspark.sql.types import IntegerType, DoubleType\n",
    "from pyspark.ml.feature import StringIndexer\n",
    "\n",
    "warnings.filterwarnings(\"ignore\")\n",
    "\n",
    "class dotdict(dict):\n",
    "    \"\"\"dot.notation access to dictionary attributes\"\"\"\n",
    "    __getattr__ = dict.get\n",
    "    __setattr__ = dict.__setitem__\n",
    "    __delattr__ = dict.__delitem__"
   ]
  },
  {
   "cell_type": "code",
   "execution_count": 7,
   "id": "346e33ca-522c-457f-80bd-0529f096467c",
   "metadata": {},
   "outputs": [
    {
     "data": {
      "text/plain": [
       "'hi'"
      ]
     },
     "execution_count": 7,
     "metadata": {},
     "output_type": "execute_result"
    }
   ],
   "source": [
    "str('hi')"
   ]
  },
  {
   "cell_type": "code",
   "execution_count": 8,
   "id": "b6da8fca-e30d-4eca-b7b9-51870657aa77",
   "metadata": {},
   "outputs": [],
   "source": [
    "def ohe_pretty(df,column):\n",
    "    distinct_values = df.select(column)\\\n",
    "                    .distinct()\\\n",
    "                    .rdd\\\n",
    "                    .flatMap(lambda x: x).collect()\n",
    "    for distinct_value in distinct_values:\n",
    "        function = F.udf(lambda item: \n",
    "                       1 if item == distinct_value else 0, \n",
    "                       IntegerType())\n",
    "        try:\n",
    "            new_column_name = column+'_'+distinct_value\n",
    "        except: \n",
    "            print('Error: column value is '+str(column)+' and distinct_value is: '+str(distinct_value))\n",
    "        df = df.withColumn(new_column_name, function(F.col(column)))\n",
    "    return df"
   ]
  },
  {
   "cell_type": "code",
   "execution_count": 9,
   "id": "3a261332-3986-49a9-b381-a5b0227f1eee",
   "metadata": {},
   "outputs": [],
   "source": [
    "def extract_long_covariate(variables,eligible_cohort_df,trial_dict,duration,trial_enrolment_startdate,trial_enrolment_enddate,aggregate=None):\n",
    "    eligible_cohort_df=eligible_cohort.select('patid').alias('df').cache()\n",
    "    for var in variables.keys():\n",
    "        path=trial_dict['covariates_long'][var]['path']\n",
    "\n",
    "        if trial_dict['covariates_long'][var]['type']=='binary':\n",
    "            covariate=read_csv(spark.sqlContext,path).select(['patid',trial_dict['covariates_long'][var][\"eventdate\"]]).\\\n",
    "            withColumnRenamed(trial_dict['covariates_long'][var][\"eventdate\"],'eventdate').\\\n",
    "            withColumn('eventdate',F.to_date(F.col(\"eventdate\"),\"yyyy-MM-dd\").alias('eventdate')).\\\n",
    "            join(eligible_cohort_df,on='patid',how='leftsemi')\n",
    "\n",
    "            covariate=covariate.where((F.col(\"eventdate\")>trial_enrolment_startdate-duration) & (F.col(\"eventdate\")<trial_enrolment_enddate))\n",
    "\n",
    "            eligible_cohort_df=eligible_cohort_df.withColumn(var,F.when(eligible_cohort.patid.isin(covariate.select(F.collect_set(\"patid\")).collect()[0][0]),1).otherwise(0)).cache()   \n",
    "        elif trial_dict['covariates_long'][var]['type']=='cat':\n",
    "            covariate=read_csv(spark.sqlContext,path).select(['patid',\n",
    "                                                              trial_dict['covariates_long'][var][\"eventdate\"],\n",
    "                                                             trial_dict['covariates_long'][var][\"value\"]]).\\\n",
    "            withColumn('eventdate',F.to_date(F.col(\"eventdate\"),\"yyyy-MM-dd\").alias('eventdate')).\\\n",
    "            join(eligible_cohort_df,on='patid',how='leftsemi')\n",
    "\n",
    "            #aggregation\n",
    "            if aggregate=='last':\n",
    "                w=Window.partitionBy('patid').orderBy(F.col('eventdate').desc())\n",
    "                covariate=covariate.withColumn(\"last_entry\",F.first('eventdate').over(w))\n",
    "                covariate=covariate.where(covariate.eventdate==covariate.last_entry).dropDuplicates(['patid']).drop(\"last_entry\",\"eventdate\")\n",
    "                covariate=eligible_cohort_df.select(\"patid\").join(covariate,on='patid',how='left').withColumnRenamed(trial_dict['covariates_long'][var][\"value\"],var)\n",
    "\n",
    "            covariate=covariate.fillna('Null')\n",
    "            covariate=ohe_pretty(covariate,var).drop(var,variables[var])\n",
    "\n",
    "            eligible_cohort_df=eligible_cohort_df.join(covariate,on='patid',how='left').cache()    \n",
    "\n",
    "\n",
    "            #covariate=covariate.where((F.col(\"eventdate\")>trial_enrolment_startdate-duration) & (F.col(\"eventdate\")<trial_enrolment_enddate))\n",
    "\n",
    "            #eligible_cohort_df=eligible_cohort_df.withColumn(var,F.when(eligible_cohort.patid.isin(covariate.select(\"patid\").distinct().toPandas().patid.tolist()),1).otherwise(0)) \n",
    "        elif trial_dict['covariates_long'][var]['type']=='continous':\n",
    "            covariate=read_csv(spark.sqlContext,path).select(['patid',\n",
    "                                                              trial_dict['covariates_long'][var][\"eventdate\"],\n",
    "                                                             trial_dict['covariates_long'][var][\"value\"]]).\\\n",
    "            withColumn('eventdate',F.to_date(F.col(\"eventdate\"),\"yyyy-MM-dd\").alias('eventdate')).\\\n",
    "            withColumnRenamed(trial_dict['covariates_long'][var][\"value\"],var).\\\n",
    "            withColumn(var,F.col(var).cast(DoubleType())).\\\n",
    "            join(eligible_cohort_df,on='patid',how='leftsemi')\n",
    "\n",
    "            covariate=covariate.where((F.col(\"eventdate\")>trial_enrolment_startdate-duration) & (F.col(\"eventdate\")<trial_enrolment_enddate))\n",
    "\n",
    "            covariate=covariate.groupBy('patid').agg(F.avg(var).alias(var))\n",
    "\n",
    "            eligible_cohort_df=eligible_cohort_df.join(covariate,on='patid',how='left').cache()   \n",
    "    return eligible_cohort_df\n"
   ]
  },
  {
   "cell_type": "code",
   "execution_count": 10,
   "id": "01f3b3bb-50a4-4d57-8b8b-804b23bfe789",
   "metadata": {},
   "outputs": [],
   "source": [
    "def fill_with_mean(df, exclude=set()): \n",
    "    stats = df.agg(*(\n",
    "        F.avg(c).alias(c) for c in df.columns if c not in exclude\n",
    "    ))\n",
    "    return df.na.fill(stats.first().asDict())"
   ]
  },
  {
   "cell_type": "code",
   "execution_count": 11,
   "id": "e444ce19-b0ca-461e-99c4-e87ed5a57efb",
   "metadata": {},
   "outputs": [
    {
     "name": "stdout",
     "output_type": "stream",
     "text": [
      "2022-09-21 18:52:42 WARN  Utils:66 - Your hostname, deepmedicine resolves to a loopback address: 127.0.1.1; using 163.1.176.44 instead (on interface enp4s0)\n",
      "2022-09-21 18:52:42 WARN  Utils:66 - Set SPARK_LOCAL_IP if you need to bind to another address\n",
      "2022-09-21 18:52:43 WARN  NativeCodeLoader:62 - Unable to load native-hadoop library for your platform... using builtin-java classes where applicable\n"
     ]
    },
    {
     "name": "stderr",
     "output_type": "stream",
     "text": [
      "Setting default log level to \"WARN\".\n",
      "To adjust logging level use sc.setLogLevel(newLevel). For SparkR, use setLogLevel(newLevel).\n"
     ]
    },
    {
     "name": "stdout",
     "output_type": "stream",
     "text": [
      "2022-09-21 18:52:43 WARN  SparkConf:66 - Note that spark.local.dir will be overridden by the value set by the cluster manager (via SPARK_LOCAL_DIRS in mesos/standalone/kubernetes and LOCAL_DIRS in YARN).\n"
     ]
    }
   ],
   "source": [
    "args = dotdict({'params': '/home/shared/mo/HFclusters/dependencies/CPRD/config/config.yaml'})\n",
    "params = yaml_load(args.params)\n",
    "params['pyspark']={'temp':'/home/shared/mo/HFclusters/dependencies/sparkDeletable',\n",
    "                   'pyspark_env':'/home/mo/anaconda3/envs/cprd/bin/python3.7'}\n",
    "spark_params = params['pyspark']\n",
    "spark = spark_init(spark_params)\n",
    "file = params['file_path']\n",
    "# data_params = params['params']1"
   ]
  },
  {
   "cell_type": "markdown",
   "id": "5661777d-d373-4406-bd13-0c34ce024a26",
   "metadata": {},
   "source": [
    "# 1. Load the main demographic file"
   ]
  },
  {
   "cell_type": "code",
   "execution_count": 12,
   "id": "a323a16b-dc22-4d80-b82c-58a6cd7e7bca",
   "metadata": {},
   "outputs": [],
   "source": [
    "data_eval =read_parquet(spark.sqlContext,'/home/shared/yikuan/Mo/analysis/CPC/result.parquet').select(['patid', 'event', 'time', 'label'])\n",
    "demographic = read_parquet(spark.sqlContext,'/home/shared/yikuan/Mo/demographics.parquet/').withColumnRenamed(\"eventdate\",\"HFdate\")"
   ]
  },
  {
   "cell_type": "code",
   "execution_count": 13,
   "id": "f8348895-1125-4001-9b17-314ffa3db1a6",
   "metadata": {},
   "outputs": [],
   "source": [
    "patient = tables.retrieve_patient(dir=file['patient'], spark=spark)\\\n",
    ".select(['patid','tod','deathdate','pracid'])\\\n",
    ".join(demographic,on='patid',how=\"leftsemi\")\\\n",
    ".join(tables.retrieve_death(dir=file['death'], spark=spark).select('patid','dod'),on='patid',how='left')\\\n",
    ".join(tables.retrieve_practice(dir=file['practice'], spark=spark).select(['pracid','lcd']),on='pracid',how='left')\\\n",
    ".cache()\n",
    "patient=patient.withColumn('Date of death',F.when(F.col('dod').isNotNull(),F.col('dod')).\\\n",
    "                  otherwise(F.col('deathdate'))).drop(\"deathdate\",'dod')\\\n",
    ".withColumn('end of followup',F.least('tod','lcd','Date of death'))\\\n",
    ".withColumn(\"died\",F.when(F.col(\"Date of death\")==F.col(\"end of followup\"),1).otherwise(0))\\\n",
    ".select(['patid','Date of death','end of followup','died'])\\\n",
    ".cache()"
   ]
  },
  {
   "cell_type": "code",
   "execution_count": 14,
   "id": "0392f8fb-522d-412b-8f1b-3ecf9db2d965",
   "metadata": {},
   "outputs": [],
   "source": [
    "demographic=demographic.join(patient,on='patid',how='left').cache()"
   ]
  },
  {
   "cell_type": "code",
   "execution_count": 15,
   "id": "b0604366-bee3-4086-8ae3-8f73083ed4bf",
   "metadata": {},
   "outputs": [
    {
     "name": "stdout",
     "output_type": "stream",
     "text": [
      "2022-09-21 18:52:56 WARN  Utils:66 - Truncated the string representation of a plan since it was too large. This behavior can be adjusted by setting 'spark.debug.maxToStringFields' in SparkEnv.conf.\n"
     ]
    },
    {
     "name": "stderr",
     "output_type": "stream",
     "text": [
      "                                                                                \r"
     ]
    },
    {
     "data": {
      "text/plain": [
       "<AxesSubplot:>"
      ]
     },
     "execution_count": 15,
     "metadata": {},
     "output_type": "execute_result"
    },
    {
     "data": {
      "image/png": "[encoded data removed]",
      "text/plain": [
       "<Figure size 432x288 with 1 Axes>"
      ]
     },
     "metadata": {
      "needs_background": "light"
     },
     "output_type": "display_data"
    }
   ],
   "source": [
    "dates_temp=demographic.select(\"end of followup\").toPandas()\n",
    "dates_temp.apply(lambda x:x[0].year, axis=1).hist()"
   ]
  },
  {
   "cell_type": "markdown",
   "id": "0ad99061-29fb-492c-8b21-3741306e2674",
   "metadata": {},
   "source": [
    "# 2. Load the related files"
   ]
  },
  {
   "cell_type": "code",
   "execution_count": 16,
   "id": "544d3a03-3f72-4338-bcd3-6b04edc40282",
   "metadata": {},
   "outputs": [],
   "source": [
    "trial_dict={'exposure':{\"path\":\"/home/shared/mo/HFclusters/cohort_parquets/Meds/Aldosterone/part-00000-e3c88430-60b3-48f3-8369-17f9ca407a3a-c000.csv\",\n",
    "                       \"type\":'binary',\n",
    "                        'eventdate':'eventdate'},\n",
    "            'covariates_long':{'ACE':{\"path\":\"/home/shared/mo/HFclusters/cohort_parquets/Meds/ACEs/part-00000-307604d4-9a13-4db9-8876-cd52bd186622-c000.csv\",\n",
    "                                      \"type\":'binary',\n",
    "                                     'eventdate':'eventdate'},\n",
    "                               'Amiloride':{'path':\"/home/shared/mo/HFclusters/cohort_parquets/Meds/Amiloride/part-00000-a464b516-4603-462b-b11c-64846a8b6f4a-c000.csv\",\n",
    "                                            'type':'binary',\n",
    "                                           'eventdate':'eventdate'},\n",
    "                               'Anticoagulant':{'path':\"/home/shared/mo/HFclusters/cohort_parquets/Meds/anticoagulant/part-00000-c71c355d-de97-4bf0-83d1-f368050065cb-c000.csv\",\n",
    "                                                'type':'binary',\n",
    "                                               'eventdate':'eventdate'},\n",
    "                               'Antiplatelet':{'path':\"/home/shared/mo/HFclusters/cohort_parquets/Meds/antiplatelet/part-00000-7ef56a1f-8c35-467b-820c-aa6efccca717-c000.csv\",\n",
    "                                               'type':'binary',\n",
    "                                              'eventdate':'eventdate'},\n",
    "                               'ARB':{\"path\":\"/home/shared/mo/HFclusters/cohort_parquets/Meds/ARBs/part-00000-865553e1-ed42-46a6-83b7-f5a0280c864d-c000.csv\",\n",
    "                                      'type':'binary',\n",
    "                                     'eventdate':'eventdate'},\n",
    "                               'BB':{'path':\"/home/shared/mo/HFclusters/cohort_parquets/Meds/BBs/part-00000-26710e1d-dbb2-481c-8c25-4d8d288082d3-c000.csv\",\n",
    "                                     'type':'binary',\n",
    "                                    'eventdate':'eventdate'},\n",
    "                               'Digoxin':{\"path\":\"/home/shared/mo/HFclusters/cohort_parquets/Meds/digoxin/part-00000-181a4f84-cd8a-4287-ba2b-343dc9c306e9-c000.csv\",\n",
    "                                          'type':'binary',\n",
    "                                         'eventdate':'eventdate'},\n",
    "                               'Diuretic':{'path':\"/home/shared/mo/HFclusters/cohort_parquets/Meds/diuretic/part-00000-afa2effc-4ce2-46fd-97b3-52e7f5615fb0-c000.csv\",\n",
    "                                           'type':'binary',\n",
    "                                          'eventdate':'eventdate'},\n",
    "                               'Nitrates':{'path':\"/home/shared/mo/HFclusters/cohort_parquets/Meds/nitrates/part-00000-71ac7324-ea87-4a93-810c-4701e0054474-c000.csv\",\n",
    "                                           'type':'binary',\n",
    "                                          'eventdate':'eventdate'},\n",
    "                               'Statins':{'path':\"/home/shared/mo/HFclusters/cohort_parquets/Meds/statins/part-00000-ce25f283-2221-4353-98cd-d67bc1dacbdd-c000.csv\", \n",
    "                                          'type':'binary',\n",
    "                                          'eventdate':'eventdate'},\n",
    "                               'Alcohol consumption':{'path':\"/home/shared/mo/HFclusters/cohort_parquets/alcoholcsv/part-00000-f62d7ace-c45e-485a-be09-ef619fe82df9-c000.csv\",\n",
    "                                                      'type':'cat',\n",
    "                                                      'eventdate':'eventdate',\n",
    "                                                      'value':'alcohol'},\n",
    "                               'Smoking status':{'path':\"/home/shared/mo/HFclusters/cohort_parquets/smokingcsv/part-00000-1af6e01c-3aed-47ad-b284-7d935f155e8a-c000.csv\",\n",
    "                                                      'type':'cat',\n",
    "                                     'eventdate':'eventdate',\n",
    "                                     'value':'smoke'},\n",
    "                               'BMI':{'path':\"/home/shared/mo/HFclusters/cohort_parquets/bmicsv/part-00000-5b9aecf4-fc48-4a0b-845e-cd0c6b528657-c000.csv\",\n",
    "                                                      'type':'continous',\n",
    "                                     'eventdate':'eventdate',\n",
    "                                     'value':'BMI'},\n",
    "                               'HR':{'path':\"/home/shared/mo/HFclusters/cohort_parquets/hrcsv/part-00000-76c35aec-df7f-4800-8d0f-e8e41490507e-c000.csv\",\n",
    "                                    'type':'continous',\n",
    "                                     'eventdate':'eventdate',\n",
    "                                     'value':'heart_rate'},\n",
    "                               'Systolic BP':{'path':\"/home/shared/mo/HFclusters/cohort_parquets/sys_bpcsv/part-00000-c8f11575-2068-48a0-aee1-4e53e42c2f7e-c000.csv\",\n",
    "                                              'type':'continous',\n",
    "                                              'eventdate':'eventdate',\n",
    "                                              'value':'systolic'},\n",
    "                               'Haemoglobin':{'path':\"/home/shared/mo/HFclusters/cohort_parquets/haemoglobin/part-00000-7efb16e2-e584-489e-a3a4-366b9ae84d5b-c000.csv\",\n",
    "                                             'type':'continous',\n",
    "                                             'eventdate':'eventdate',\n",
    "                                             'value':'haemoglobin'},\n",
    "                               'Potassium':{'path':\"/home/shared/mo/HFclusters/cohort_parquets/potassium/part-00000-6784e63e-bf6c-4ef6-b7ea-72818d4cffee-c000.csv\",\n",
    "                                            'type':'continous',\n",
    "                                            'eventdate':'eventdate',\n",
    "                                            'value':'potassium'},\n",
    "                               \"HF type\":{'path':\"/home/shared/mo/HFclusters/cohort_parquets/hftype/part-00000-7080bb49-8426-4afb-8f9d-e7326e8a9082-c000.csv\",\n",
    "                                          'type':'cat',\n",
    "                                          'eventdate':'eventdate',\n",
    "                                          'value':'HF type'},\n",
    "                               \"NYHA class\":{'path':\"/home/shared/mo/HFclusters/cohort_parquets/nyha/part-00000-fefa6148-f1ca-44cc-ba26-192827992938-c000.csv\",\n",
    "                                             'type':'cat',\n",
    "                                             'eventdate':'eventdate',\n",
    "                                             'value':'medcode'},#['18853','13189','19066','51214']#class I, II, III & IV\n",
    "                               \"Cancer\":{'path':\"/home/shared/mo/HFclusters/cohort_parquets/malignant_cancer/part-00000-3a17e731-6aab-46d1-932a-e9d7f0174ef2-c000.csv\",\n",
    "                                                      'type':'binary',\n",
    "                                                      'eventdate':'malignant cancer'},\n",
    "                               \"Mental or behavioral disorder\":{'path':\"/home/shared/mo/HFclusters/cohort_parquets/mental_or_behavioral_disorder/part-00000-3761b121-e663-45d3-9c0c-67660a7f95e0-c000.csv\",\n",
    "                                                      'type':'binary',\n",
    "                                                      'eventdate':'mental or behavioral disorder'},\n",
    "                               \"Musculoskeletal or connective tissue diagnosis\":{'path':\"/home/shared/mo/HFclusters/cohort_parquets/musculoskeletal_or_connective_tissue_diagnosis/part-00000-51f58892-6a64-4c0a-9e8a-5cdc60481930-c000.csv\",\n",
    "                                                      'type':'binary',\n",
    "                                                      'eventdate':'Musculoskeletal or connective tissue'}\n",
    "                              },\n",
    "            'first diagnoses':{'path':\"/home/shared/mo/HFclusters/cohort_parquets/first_diagnoses/part-00000-39a65ed5-6497-4f42-a61e-c86ab5b1d2a4-c000.csv\"}\n",
    "           }"
   ]
  },
  {
   "cell_type": "code",
   "execution_count": 17,
   "id": "4f1b856a-273c-4e5d-9584-cf4dea9d39ea",
   "metadata": {},
   "outputs": [
    {
     "name": "stdout",
     "output_type": "stream",
     "text": [
      "Cancer\n",
      "+--------+----------------+\n",
      "|   patid|malignant cancer|\n",
      "+--------+----------------+\n",
      "|10555460|      2007-08-30|\n",
      "|10555460|      2007-09-19|\n",
      "|10555460|      2008-02-14|\n",
      "|10555460|      2008-04-25|\n",
      "|10555460|      2008-04-25|\n",
      "+--------+----------------+\n",
      "only showing top 5 rows\n",
      "\n"
     ]
    }
   ],
   "source": [
    "for covariate in trial_dict['covariates_long'].keys():\n",
    "    if covariate=='Cancer':\n",
    "        print(covariate)\n",
    "        if trial_dict['covariates_long'][covariate][\"type\"]=='binary':\n",
    "            covariate_df=read_csv(spark.sqlContext,trial_dict['covariates_long'][covariate][\"path\"])\\\n",
    "            .select(['patid',trial_dict['covariates_long'][covariate][\"eventdate\"]])\n",
    "        else:\n",
    "            covariate_df=read_csv(spark.sqlContext,trial_dict['covariates_long'][covariate][\"path\"])\\\n",
    "            .select(['patid',trial_dict['covariates_long'][covariate][\"eventdate\"],trial_dict['covariates_long'][covariate][\"value\"]])\n",
    "        covariate_df.show(5)\n",
    "#exposure = read_csv(spark.sqlContext,trial_dict['exposure']['path'])"
   ]
  },
  {
   "cell_type": "markdown",
   "id": "1a95db0c-e635-4b19-807d-c9138644b2a8",
   "metadata": {},
   "source": [
    "# Trial"
   ]
  },
  {
   "cell_type": "code",
   "execution_count": 18,
   "id": "ae3b7896-cad5-4f23-8e2f-13af54fd1edd",
   "metadata": {},
   "outputs": [
    {
     "name": "stdout",
     "output_type": "stream",
     "text": [
      "+--------+------+----------+------+----------+----------+----------+----------+----------+----+----------+-------------+---------------+----+\n",
      "|   patid|gender|       dob|region|     start| startdate|       end|   enddate|    HFdate|code|  baseline|Date of death|end of followup|died|\n",
      "+--------+------+----------+------+----------+----------+----------+----------+----------+----+----------+-------------+---------------+----+\n",
      "|10103660|     2|1923-07-01|     2|1999-03-11|1997-03-11|2012-10-16|2012-10-16|2010-09-10|2906|2008-09-10|   2012-10-16|     2012-10-16|   1|\n",
      "| 1011171|     1|1919-07-01|     2|2001-01-21|1999-01-21|2007-05-11|2007-05-11|2007-01-23| 398|2005-01-23|   2007-05-11|     2007-05-11|   1|\n",
      "|10217120|     2|1924-07-01|     6|1991-11-02|1989-11-02|2010-12-02|2010-12-02|2003-05-06| 398|2001-05-06|         null|     2010-12-02|   0|\n",
      "|10280169|     1|1920-07-01|     5|1993-02-26|1991-02-26|2005-01-19|2005-01-19|2005-01-04| 884|2003-01-04|   2005-01-19|     2005-01-19|   1|\n",
      "|10417322|     2|1960-07-01|     2|1995-11-24|1993-11-24|2015-12-25|2015-12-25|1998-12-15| 884|1996-12-15|         null|     2015-12-25|   0|\n",
      "|10539378|     2|1918-07-01|     7|1991-09-17|1989-09-17|2003-09-12|2003-09-12|2000-06-29|2906|1998-06-29|   2009-03-21|     2003-09-12|   0|\n",
      "|10555460|     1|1929-07-01|     8|2001-11-20|1999-11-20|2015-02-07|2015-02-07|2010-06-23|2906|2008-06-23|   2015-02-07|     2015-02-07|   1|\n",
      "|10604448|     2|1920-07-01|     3|1991-10-16|1989-10-16|2006-06-08|2006-06-08|1998-10-07|2906|1996-10-07|   2008-12-23|     2006-06-08|   0|\n",
      "| 1076191|     1|1933-07-01|     2|1992-01-10|1990-01-10|2001-03-23|2001-03-23|1994-04-06|2062|1992-04-06|   2001-03-23|     2001-03-23|   1|\n",
      "|10921460|     1|1927-07-01|     8|2001-11-20|1999-11-20|2015-12-25|2015-12-25|2014-04-16|2062|2012-04-16|         null|     2015-12-25|   0|\n",
      "|11239549|     2|1916-07-01|     6|2000-09-16|1998-09-16|2007-04-13|2007-04-13|2006-07-26|2062|2004-07-26|   2007-04-13|     2007-04-13|   1|\n",
      "|11295473|     1|1919-07-01|    10|2002-03-30|2000-03-30|2009-09-16|2009-09-16|2009-04-28|2906|2007-04-28|   2009-09-16|     2009-09-16|   1|\n",
      "|11944075|     1|1926-07-01|     9|1994-05-23|1992-05-23|2005-04-17|2005-04-17|1997-12-24|2062|1995-12-24|   2005-04-17|     2005-04-17|   1|\n",
      "|12128297|     1|1922-07-01|     6|2001-07-16|1999-07-16|2008-04-16|2008-04-16|2008-02-22|2062|2006-02-22|   2008-04-16|     2008-04-16|   1|\n",
      "|12191229|     1|1933-07-01|     8|1994-08-20|1992-08-20|2015-12-20|2015-12-20|2009-04-30| 884|2007-04-30|         null|     2015-12-20|   0|\n",
      "|12199442|     2|1912-07-01|     1|2000-09-11|1998-09-11|2003-10-08|2003-10-08|2003-02-07|2906|2001-02-07|   2003-10-08|     2003-10-08|   1|\n",
      "|12231252|     1|1937-07-01|     7|1991-10-17|1989-10-17|2014-11-11|2014-11-11|2014-03-26|2062|2012-03-26|         null|     2014-11-11|   0|\n",
      "|12261184|     2|1933-07-01|    10|1990-12-23|1988-12-23|2008-03-09|2008-03-09|1998-08-08|2906|1996-08-08|   2008-03-09|     2008-03-09|   1|\n",
      "|12374013|     1|1909-07-01|     7|1998-02-13|1996-02-13|2006-04-20|2006-04-20|2000-11-03| 884|1998-11-03|   2006-04-20|     2006-04-20|   1|\n",
      "| 1249294|     2|1915-07-01|     2|1995-01-02|1993-01-02|2010-02-23|2010-02-23|2007-10-17|5942|2005-10-17|   2010-02-23|     2010-02-23|   1|\n",
      "+--------+------+----------+------+----------+----------+----------+----------+----------+----+----------+-------------+---------------+----+\n",
      "only showing top 20 rows\n",
      "\n"
     ]
    }
   ],
   "source": [
    "demographic.show()"
   ]
  },
  {
   "cell_type": "code",
   "execution_count": 19,
   "id": "92961256-c5e6-4cb3-bf33-71b3bebeb7a1",
   "metadata": {},
   "outputs": [
    {
     "name": "stdout",
     "output_type": "stream",
     "text": [
      "+------+-----+\n",
      "|gender|count|\n",
      "+------+-----+\n",
      "|     1|28339|\n",
      "|     2|25726|\n",
      "+------+-----+\n",
      "\n"
     ]
    }
   ],
   "source": [
    "demographic.select('gender').groupBy('gender').count().show()"
   ]
  },
  {
   "cell_type": "code",
   "execution_count": 21,
   "id": "5d912a6d-1f67-430f-93cd-f616af16f13c",
   "metadata": {},
   "outputs": [
    {
     "name": "stdout",
     "output_type": "stream",
     "text": [
      "5923 participants deemed eligible for trial num 0\n",
      "122 participants excluded due the exposure or washout period overlapping with the trial enrolment\n"
     ]
    },
    {
     "name": "stderr",
     "output_type": "stream",
     "text": [
      "                                                                                \r"
     ]
    },
    {
     "name": "stdout",
     "output_type": "stream",
     "text": [
      "2022-09-21 18:56:56 WARN  CacheManager:66 - Asked to cache already cached data.\n",
      "Trial 0: 5801 participants, 17 exposure\n"
     ]
    },
    {
     "name": "stderr",
     "output_type": "stream",
     "text": [
      "                                                                                \r"
     ]
    },
    {
     "name": "stdout",
     "output_type": "stream",
     "text": [
      "2022-09-21 18:57:38 WARN  CacheManager:66 - Asked to cache already cached data.\n"
     ]
    },
    {
     "name": "stderr",
     "output_type": "stream",
     "text": [
      "                                                                                \r"
     ]
    },
    {
     "name": "stdout",
     "output_type": "stream",
     "text": [
      "2022-09-21 18:57:58 WARN  CacheManager:66 - Asked to cache already cached data.\n",
      "2022-09-21 18:57:59 WARN  CacheManager:66 - Asked to cache already cached data.\n"
     ]
    },
    {
     "name": "stderr",
     "output_type": "stream",
     "text": [
      "                                                                                \r"
     ]
    },
    {
     "name": "stdout",
     "output_type": "stream",
     "text": [
      "5956 participants deemed eligible for trial num 1\n",
      "138 participants excluded due the exposure or washout period overlapping with the trial enrolment\n"
     ]
    },
    {
     "name": "stderr",
     "output_type": "stream",
     "text": [
      "                                                                                \r"
     ]
    },
    {
     "name": "stdout",
     "output_type": "stream",
     "text": [
      "Trial 1: 5818 participants, 23 exposure\n"
     ]
    },
    {
     "name": "stderr",
     "output_type": "stream",
     "text": [
      "                                                                                \r"
     ]
    },
    {
     "name": "stdout",
     "output_type": "stream",
     "text": [
      "2022-09-21 18:59:29 WARN  CacheManager:66 - Asked to cache already cached data.\n"
     ]
    },
    {
     "name": "stderr",
     "output_type": "stream",
     "text": [
      "                                                                                \r"
     ]
    },
    {
     "name": "stdout",
     "output_type": "stream",
     "text": [
      "2022-09-21 18:59:47 WARN  CacheManager:66 - Asked to cache already cached data.\n",
      "2022-09-21 18:59:48 WARN  CacheManager:66 - Asked to cache already cached data.\n"
     ]
    },
    {
     "name": "stderr",
     "output_type": "stream",
     "text": [
      "                                                                                \r"
     ]
    },
    {
     "name": "stdout",
     "output_type": "stream",
     "text": [
      "5930 participants deemed eligible for trial num 2\n"
     ]
    },
    {
     "name": "stderr",
     "output_type": "stream",
     "text": [
      "                                                                                \r"
     ]
    },
    {
     "name": "stdout",
     "output_type": "stream",
     "text": [
      "142 participants excluded due the exposure or washout period overlapping with the trial enrolment\n"
     ]
    },
    {
     "name": "stderr",
     "output_type": "stream",
     "text": [
      "                                                                                \r"
     ]
    },
    {
     "name": "stdout",
     "output_type": "stream",
     "text": [
      "Trial 2: 5788 participants, 43 exposure\n"
     ]
    },
    {
     "name": "stderr",
     "output_type": "stream",
     "text": [
      "                                                                                \r"
     ]
    },
    {
     "name": "stdout",
     "output_type": "stream",
     "text": [
      "2022-09-21 19:01:18 WARN  CacheManager:66 - Asked to cache already cached data.\n"
     ]
    },
    {
     "name": "stderr",
     "output_type": "stream",
     "text": [
      "                                                                                \r"
     ]
    },
    {
     "name": "stdout",
     "output_type": "stream",
     "text": [
      "2022-09-21 19:01:34 WARN  CacheManager:66 - Asked to cache already cached data.\n",
      "2022-09-21 19:01:35 WARN  CacheManager:66 - Asked to cache already cached data.\n"
     ]
    },
    {
     "name": "stderr",
     "output_type": "stream",
     "text": [
      "                                                                                ]\r"
     ]
    },
    {
     "name": "stdout",
     "output_type": "stream",
     "text": [
      "5946 participants deemed eligible for trial num 3\n",
      "153 participants excluded due the exposure or washout period overlapping with the trial enrolment\n"
     ]
    },
    {
     "name": "stderr",
     "output_type": "stream",
     "text": [
      "                                                                                \r"
     ]
    },
    {
     "name": "stdout",
     "output_type": "stream",
     "text": [
      "Trial 3: 5793 participants, 48 exposure\n"
     ]
    },
    {
     "name": "stderr",
     "output_type": "stream",
     "text": [
      "                                                                                \r"
     ]
    },
    {
     "name": "stdout",
     "output_type": "stream",
     "text": [
      "2022-09-21 19:02:59 WARN  CacheManager:66 - Asked to cache already cached data.\n"
     ]
    },
    {
     "name": "stderr",
     "output_type": "stream",
     "text": [
      "                                                                                \r"
     ]
    },
    {
     "name": "stdout",
     "output_type": "stream",
     "text": [
      "2022-09-21 19:03:13 WARN  CacheManager:66 - Asked to cache already cached data.\n",
      "2022-09-21 19:03:14 WARN  CacheManager:66 - Asked to cache already cached data.\n"
     ]
    },
    {
     "name": "stderr",
     "output_type": "stream",
     "text": [
      "                                                                                ]\r"
     ]
    },
    {
     "name": "stdout",
     "output_type": "stream",
     "text": [
      "5966 participants deemed eligible for trial num 4\n",
      "165 participants excluded due the exposure or washout period overlapping with the trial enrolment\n"
     ]
    },
    {
     "name": "stderr",
     "output_type": "stream",
     "text": [
      "                                                                                \r"
     ]
    },
    {
     "name": "stdout",
     "output_type": "stream",
     "text": [
      "Trial 4: 5801 participants, 55 exposure\n"
     ]
    },
    {
     "name": "stderr",
     "output_type": "stream",
     "text": [
      "                                                                                \r"
     ]
    },
    {
     "name": "stdout",
     "output_type": "stream",
     "text": [
      "2022-09-21 19:04:31 WARN  CacheManager:66 - Asked to cache already cached data.\n"
     ]
    },
    {
     "name": "stderr",
     "output_type": "stream",
     "text": [
      "                                                                                \r"
     ]
    },
    {
     "name": "stdout",
     "output_type": "stream",
     "text": [
      "2022-09-21 19:04:48 WARN  CacheManager:66 - Asked to cache already cached data.\n",
      "2022-09-21 19:04:49 WARN  CacheManager:66 - Asked to cache already cached data.\n"
     ]
    },
    {
     "name": "stderr",
     "output_type": "stream",
     "text": [
      "                                                                                ]\r"
     ]
    },
    {
     "name": "stdout",
     "output_type": "stream",
     "text": [
      "5933 participants deemed eligible for trial num 5\n",
      "176 participants excluded due the exposure or washout period overlapping with the trial enrolment\n"
     ]
    },
    {
     "name": "stderr",
     "output_type": "stream",
     "text": [
      "                                                                                \r"
     ]
    },
    {
     "name": "stdout",
     "output_type": "stream",
     "text": [
      "Trial 5: 5757 participants, 77 exposure\n"
     ]
    },
    {
     "name": "stderr",
     "output_type": "stream",
     "text": [
      "                                                                                \r"
     ]
    },
    {
     "name": "stdout",
     "output_type": "stream",
     "text": [
      "2022-09-21 19:06:06 WARN  CacheManager:66 - Asked to cache already cached data.\n"
     ]
    },
    {
     "name": "stderr",
     "output_type": "stream",
     "text": [
      "                                                                                \r"
     ]
    },
    {
     "name": "stdout",
     "output_type": "stream",
     "text": [
      "2022-09-21 19:06:22 WARN  CacheManager:66 - Asked to cache already cached data.\n",
      "2022-09-21 19:06:23 WARN  CacheManager:66 - Asked to cache already cached data.\n"
     ]
    },
    {
     "name": "stderr",
     "output_type": "stream",
     "text": [
      "                                                                                ]\r"
     ]
    },
    {
     "name": "stdout",
     "output_type": "stream",
     "text": [
      "5906 participants deemed eligible for trial num 6\n",
      "188 participants excluded due the exposure or washout period overlapping with the trial enrolment\n"
     ]
    },
    {
     "name": "stderr",
     "output_type": "stream",
     "text": [
      "                                                                                \r"
     ]
    },
    {
     "name": "stdout",
     "output_type": "stream",
     "text": [
      "Trial 6: 5718 participants, 75 exposure\n"
     ]
    },
    {
     "name": "stderr",
     "output_type": "stream",
     "text": [
      "                                                                                \r"
     ]
    },
    {
     "name": "stdout",
     "output_type": "stream",
     "text": [
      "2022-09-21 19:07:40 WARN  CacheManager:66 - Asked to cache already cached data.\n"
     ]
    },
    {
     "name": "stderr",
     "output_type": "stream",
     "text": [
      "                                                                                \r"
     ]
    },
    {
     "name": "stdout",
     "output_type": "stream",
     "text": [
      "2022-09-21 19:07:55 WARN  CacheManager:66 - Asked to cache already cached data.\n",
      "2022-09-21 19:07:56 WARN  CacheManager:66 - Asked to cache already cached data.\n"
     ]
    },
    {
     "name": "stderr",
     "output_type": "stream",
     "text": [
      "                                                                                ]\r"
     ]
    },
    {
     "name": "stdout",
     "output_type": "stream",
     "text": [
      "5846 participants deemed eligible for trial num 7\n",
      "194 participants excluded due the exposure or washout period overlapping with the trial enrolment\n"
     ]
    },
    {
     "name": "stderr",
     "output_type": "stream",
     "text": [
      "                                                                                \r"
     ]
    },
    {
     "name": "stdout",
     "output_type": "stream",
     "text": [
      "Trial 7: 5652 participants, 95 exposure\n"
     ]
    },
    {
     "name": "stderr",
     "output_type": "stream",
     "text": [
      "                                                                                \r"
     ]
    },
    {
     "name": "stdout",
     "output_type": "stream",
     "text": [
      "2022-09-21 19:09:14 WARN  CacheManager:66 - Asked to cache already cached data.\n"
     ]
    },
    {
     "name": "stderr",
     "output_type": "stream",
     "text": [
      "                                                                                \r"
     ]
    },
    {
     "name": "stdout",
     "output_type": "stream",
     "text": [
      "2022-09-21 19:09:29 WARN  CacheManager:66 - Asked to cache already cached data.\n",
      "2022-09-21 19:09:31 WARN  CacheManager:66 - Asked to cache already cached data.\n"
     ]
    },
    {
     "name": "stderr",
     "output_type": "stream",
     "text": [
      "                                                                                ]\r"
     ]
    },
    {
     "name": "stdout",
     "output_type": "stream",
     "text": [
      "5836 participants deemed eligible for trial num 8\n"
     ]
    },
    {
     "name": "stderr",
     "output_type": "stream",
     "text": [
      "                                                                                \r"
     ]
    },
    {
     "name": "stdout",
     "output_type": "stream",
     "text": [
      "204 participants excluded due the exposure or washout period overlapping with the trial enrolment\n"
     ]
    },
    {
     "name": "stderr",
     "output_type": "stream",
     "text": [
      "                                                                                \r"
     ]
    },
    {
     "name": "stdout",
     "output_type": "stream",
     "text": [
      "Trial 8: 5632 participants, 100 exposure\n"
     ]
    },
    {
     "name": "stderr",
     "output_type": "stream",
     "text": [
      "                                                                                \r"
     ]
    },
    {
     "name": "stdout",
     "output_type": "stream",
     "text": [
      "2022-09-21 19:10:54 WARN  CacheManager:66 - Asked to cache already cached data.\n"
     ]
    },
    {
     "name": "stderr",
     "output_type": "stream",
     "text": [
      "                                                                                \r"
     ]
    },
    {
     "name": "stdout",
     "output_type": "stream",
     "text": [
      "2022-09-21 19:11:08 WARN  CacheManager:66 - Asked to cache already cached data.\n",
      "2022-09-21 19:11:09 WARN  CacheManager:66 - Asked to cache already cached data.\n"
     ]
    },
    {
     "name": "stderr",
     "output_type": "stream",
     "text": [
      "                                                                                ]\r"
     ]
    },
    {
     "name": "stdout",
     "output_type": "stream",
     "text": [
      "5773 participants deemed eligible for trial num 9\n",
      "213 participants excluded due the exposure or washout period overlapping with the trial enrolment\n"
     ]
    },
    {
     "name": "stderr",
     "output_type": "stream",
     "text": [
      "                                                                                \r"
     ]
    },
    {
     "name": "stdout",
     "output_type": "stream",
     "text": [
      "Trial 9: 5560 participants, 108 exposure\n"
     ]
    },
    {
     "name": "stderr",
     "output_type": "stream",
     "text": [
      "                                                                                \r"
     ]
    },
    {
     "name": "stdout",
     "output_type": "stream",
     "text": [
      "2022-09-21 19:12:26 WARN  CacheManager:66 - Asked to cache already cached data.\n"
     ]
    },
    {
     "name": "stderr",
     "output_type": "stream",
     "text": [
      "                                                                                \r"
     ]
    },
    {
     "name": "stdout",
     "output_type": "stream",
     "text": [
      "2022-09-21 19:12:42 WARN  CacheManager:66 - Asked to cache already cached data.\n",
      "2022-09-21 19:12:44 WARN  CacheManager:66 - Asked to cache already cached data.\n"
     ]
    },
    {
     "name": "stderr",
     "output_type": "stream",
     "text": [
      "                                                                                ]\r"
     ]
    },
    {
     "name": "stdout",
     "output_type": "stream",
     "text": [
      "5740 participants deemed eligible for trial num 10\n",
      "213 participants excluded due the exposure or washout period overlapping with the trial enrolment\n"
     ]
    },
    {
     "name": "stderr",
     "output_type": "stream",
     "text": [
      "                                                                                \r"
     ]
    },
    {
     "name": "stdout",
     "output_type": "stream",
     "text": [
      "Trial 10: 5527 participants, 109 exposure\n"
     ]
    },
    {
     "name": "stderr",
     "output_type": "stream",
     "text": [
      "                                                                                \r"
     ]
    },
    {
     "name": "stdout",
     "output_type": "stream",
     "text": [
      "2022-09-21 19:14:02 WARN  CacheManager:66 - Asked to cache already cached data.\n"
     ]
    },
    {
     "name": "stderr",
     "output_type": "stream",
     "text": [
      "                                                                                \r"
     ]
    },
    {
     "name": "stdout",
     "output_type": "stream",
     "text": [
      "2022-09-21 19:14:19 WARN  CacheManager:66 - Asked to cache already cached data.\n",
      "2022-09-21 19:14:21 WARN  CacheManager:66 - Asked to cache already cached data.\n"
     ]
    },
    {
     "name": "stderr",
     "output_type": "stream",
     "text": [
      "                                                                                ]\r"
     ]
    },
    {
     "name": "stdout",
     "output_type": "stream",
     "text": [
      "5689 participants deemed eligible for trial num 11\n",
      "216 participants excluded due the exposure or washout period overlapping with the trial enrolment\n"
     ]
    },
    {
     "name": "stderr",
     "output_type": "stream",
     "text": [
      "                                                                                \r"
     ]
    },
    {
     "name": "stdout",
     "output_type": "stream",
     "text": [
      "Trial 11: 5473 participants, 127 exposure\n"
     ]
    },
    {
     "name": "stderr",
     "output_type": "stream",
     "text": [
      "                                                                                \r"
     ]
    },
    {
     "name": "stdout",
     "output_type": "stream",
     "text": [
      "2022-09-21 19:15:37 WARN  CacheManager:66 - Asked to cache already cached data.\n"
     ]
    },
    {
     "name": "stderr",
     "output_type": "stream",
     "text": [
      "                                                                                \r"
     ]
    },
    {
     "name": "stdout",
     "output_type": "stream",
     "text": [
      "2022-09-21 19:15:52 WARN  CacheManager:66 - Asked to cache already cached data.\n",
      "2022-09-21 19:15:54 WARN  CacheManager:66 - Asked to cache already cached data.\n"
     ]
    },
    {
     "name": "stderr",
     "output_type": "stream",
     "text": [
      "                                                                                ]\r"
     ]
    },
    {
     "name": "stdout",
     "output_type": "stream",
     "text": [
      "5625 participants deemed eligible for trial num 12\n",
      "220 participants excluded due the exposure or washout period overlapping with the trial enrolment\n",
      "Trial 12: 5405 participants, 126 exposure\n"
     ]
    },
    {
     "name": "stderr",
     "output_type": "stream",
     "text": [
      "                                                                                \r"
     ]
    },
    {
     "name": "stdout",
     "output_type": "stream",
     "text": [
      "2022-09-21 19:17:19 WARN  CacheManager:66 - Asked to cache already cached data.\n"
     ]
    },
    {
     "name": "stderr",
     "output_type": "stream",
     "text": [
      "                                                                                \r"
     ]
    },
    {
     "name": "stdout",
     "output_type": "stream",
     "text": [
      "2022-09-21 19:17:35 WARN  CacheManager:66 - Asked to cache already cached data.\n",
      "2022-09-21 19:17:36 WARN  CacheManager:66 - Asked to cache already cached data.\n"
     ]
    },
    {
     "name": "stderr",
     "output_type": "stream",
     "text": [
      "                                                                                ]\r"
     ]
    },
    {
     "name": "stdout",
     "output_type": "stream",
     "text": [
      "5603 participants deemed eligible for trial num 13\n"
     ]
    },
    {
     "name": "stderr",
     "output_type": "stream",
     "text": [
      "                                                                                \r"
     ]
    },
    {
     "name": "stdout",
     "output_type": "stream",
     "text": [
      "223 participants excluded due the exposure or washout period overlapping with the trial enrolment\n"
     ]
    },
    {
     "name": "stderr",
     "output_type": "stream",
     "text": [
      "                                                                                \r"
     ]
    },
    {
     "name": "stdout",
     "output_type": "stream",
     "text": [
      "Trial 13: 5380 participants, 131 exposure\n"
     ]
    },
    {
     "name": "stderr",
     "output_type": "stream",
     "text": [
      "                                                                                \r"
     ]
    },
    {
     "name": "stdout",
     "output_type": "stream",
     "text": [
      "2022-09-21 19:18:57 WARN  CacheManager:66 - Asked to cache already cached data.\n"
     ]
    },
    {
     "name": "stderr",
     "output_type": "stream",
     "text": [
      "                                                                                \r"
     ]
    },
    {
     "name": "stdout",
     "output_type": "stream",
     "text": [
      "2022-09-21 19:19:13 WARN  CacheManager:66 - Asked to cache already cached data.\n",
      "2022-09-21 19:19:15 WARN  CacheManager:66 - Asked to cache already cached data.\n"
     ]
    },
    {
     "name": "stderr",
     "output_type": "stream",
     "text": [
      "                                                                                ]\r"
     ]
    },
    {
     "name": "stdout",
     "output_type": "stream",
     "text": [
      "5595 participants deemed eligible for trial num 14\n",
      "224 participants excluded due the exposure or washout period overlapping with the trial enrolment\n",
      "Trial 14: 5371 participants, 134 exposure\n"
     ]
    },
    {
     "name": "stderr",
     "output_type": "stream",
     "text": [
      "                                                                                \r"
     ]
    },
    {
     "name": "stdout",
     "output_type": "stream",
     "text": [
      "2022-09-21 19:20:35 WARN  CacheManager:66 - Asked to cache already cached data.\n"
     ]
    },
    {
     "name": "stderr",
     "output_type": "stream",
     "text": [
      "                                                                                \r"
     ]
    },
    {
     "name": "stdout",
     "output_type": "stream",
     "text": [
      "2022-09-21 19:20:54 WARN  CacheManager:66 - Asked to cache already cached data.\n",
      "2022-09-21 19:20:55 WARN  CacheManager:66 - Asked to cache already cached data.\n"
     ]
    },
    {
     "name": "stderr",
     "output_type": "stream",
     "text": [
      "                                                                                ]\r"
     ]
    },
    {
     "name": "stdout",
     "output_type": "stream",
     "text": [
      "5584 participants deemed eligible for trial num 15\n"
     ]
    },
    {
     "name": "stderr",
     "output_type": "stream",
     "text": [
      "                                                                                \r"
     ]
    },
    {
     "name": "stdout",
     "output_type": "stream",
     "text": [
      "234 participants excluded due the exposure or washout period overlapping with the trial enrolment\n"
     ]
    },
    {
     "name": "stderr",
     "output_type": "stream",
     "text": [
      "                                                                                \r"
     ]
    },
    {
     "name": "stdout",
     "output_type": "stream",
     "text": [
      "Trial 15: 5350 participants, 151 exposure\n"
     ]
    },
    {
     "name": "stderr",
     "output_type": "stream",
     "text": [
      "                                                                                \r"
     ]
    },
    {
     "name": "stdout",
     "output_type": "stream",
     "text": [
      "2022-09-21 19:22:17 WARN  CacheManager:66 - Asked to cache already cached data.\n"
     ]
    },
    {
     "name": "stderr",
     "output_type": "stream",
     "text": [
      "                                                                                \r"
     ]
    },
    {
     "name": "stdout",
     "output_type": "stream",
     "text": [
      "2022-09-21 19:22:34 WARN  CacheManager:66 - Asked to cache already cached data.\n",
      "2022-09-21 19:22:36 WARN  CacheManager:66 - Asked to cache already cached data.\n"
     ]
    },
    {
     "name": "stderr",
     "output_type": "stream",
     "text": [
      "                                                                                ]\r"
     ]
    },
    {
     "name": "stdout",
     "output_type": "stream",
     "text": [
      "5580 participants deemed eligible for trial num 16\n",
      "242 participants excluded due the exposure or washout period overlapping with the trial enrolment\n",
      "Trial 16: 5338 participants, 157 exposure\n"
     ]
    },
    {
     "name": "stderr",
     "output_type": "stream",
     "text": [
      "                                                                                \r"
     ]
    },
    {
     "name": "stdout",
     "output_type": "stream",
     "text": [
      "2022-09-21 19:24:03 WARN  CacheManager:66 - Asked to cache already cached data.\n"
     ]
    },
    {
     "name": "stderr",
     "output_type": "stream",
     "text": [
      "                                                                                \r"
     ]
    },
    {
     "name": "stdout",
     "output_type": "stream",
     "text": [
      "2022-09-21 19:24:22 WARN  CacheManager:66 - Asked to cache already cached data.\n",
      "2022-09-21 19:24:23 WARN  CacheManager:66 - Asked to cache already cached data.\n"
     ]
    },
    {
     "name": "stderr",
     "output_type": "stream",
     "text": [
      "                                                                                ]\r"
     ]
    },
    {
     "name": "stdout",
     "output_type": "stream",
     "text": [
      "5532 participants deemed eligible for trial num 17\n",
      "242 participants excluded due the exposure or washout period overlapping with the trial enrolment\n",
      "Trial 17: 5290 participants, 155 exposure\n"
     ]
    },
    {
     "name": "stderr",
     "output_type": "stream",
     "text": [
      "                                                                                \r"
     ]
    },
    {
     "name": "stdout",
     "output_type": "stream",
     "text": [
      "2022-09-21 19:25:46 WARN  CacheManager:66 - Asked to cache already cached data.\n"
     ]
    },
    {
     "name": "stderr",
     "output_type": "stream",
     "text": [
      "                                                                                \r"
     ]
    },
    {
     "name": "stdout",
     "output_type": "stream",
     "text": [
      "2022-09-21 19:26:04 WARN  CacheManager:66 - Asked to cache already cached data.\n",
      "2022-09-21 19:26:05 WARN  CacheManager:66 - Asked to cache already cached data.\n"
     ]
    },
    {
     "name": "stderr",
     "output_type": "stream",
     "text": [
      "                                                                                ]\r"
     ]
    },
    {
     "name": "stdout",
     "output_type": "stream",
     "text": [
      "5457 participants deemed eligible for trial num 18\n",
      "253 participants excluded due the exposure or washout period overlapping with the trial enrolment\n"
     ]
    },
    {
     "name": "stderr",
     "output_type": "stream",
     "text": [
      "                                                                                \r"
     ]
    },
    {
     "name": "stdout",
     "output_type": "stream",
     "text": [
      "Trial 18: 5204 participants, 152 exposure\n"
     ]
    },
    {
     "name": "stderr",
     "output_type": "stream",
     "text": [
      "                                                                                \r"
     ]
    },
    {
     "name": "stdout",
     "output_type": "stream",
     "text": [
      "2022-09-21 19:27:28 WARN  CacheManager:66 - Asked to cache already cached data.\n"
     ]
    },
    {
     "name": "stderr",
     "output_type": "stream",
     "text": [
      "                                                                                \r"
     ]
    },
    {
     "name": "stdout",
     "output_type": "stream",
     "text": [
      "2022-09-21 19:27:46 WARN  CacheManager:66 - Asked to cache already cached data.\n",
      "2022-09-21 19:27:47 WARN  CacheManager:66 - Asked to cache already cached data.\n"
     ]
    },
    {
     "name": "stderr",
     "output_type": "stream",
     "text": [
      "                                                                                \r"
     ]
    },
    {
     "name": "stdout",
     "output_type": "stream",
     "text": [
      "5413 participants deemed eligible for trial num 19\n",
      "271 participants excluded due the exposure or washout period overlapping with the trial enrolment\n",
      "Trial 19: 5142 participants, 155 exposure\n"
     ]
    },
    {
     "name": "stderr",
     "output_type": "stream",
     "text": [
      "                                                                                \r"
     ]
    },
    {
     "name": "stdout",
     "output_type": "stream",
     "text": [
      "2022-09-21 19:29:00 WARN  CacheManager:66 - Asked to cache already cached data.\n"
     ]
    },
    {
     "name": "stderr",
     "output_type": "stream",
     "text": [
      "                                                                                \r"
     ]
    },
    {
     "name": "stdout",
     "output_type": "stream",
     "text": [
      "2022-09-21 19:29:18 WARN  CacheManager:66 - Asked to cache already cached data.\n",
      "2022-09-21 19:29:19 WARN  CacheManager:66 - Asked to cache already cached data.\n"
     ]
    },
    {
     "name": "stderr",
     "output_type": "stream",
     "text": [
      "                                                                                ]\r"
     ]
    },
    {
     "name": "stdout",
     "output_type": "stream",
     "text": [
      "5360 participants deemed eligible for trial num 20\n"
     ]
    },
    {
     "name": "stderr",
     "output_type": "stream",
     "text": [
      "                                                                                \r"
     ]
    },
    {
     "name": "stdout",
     "output_type": "stream",
     "text": [
      "272 participants excluded due the exposure or washout period overlapping with the trial enrolment\n"
     ]
    },
    {
     "name": "stderr",
     "output_type": "stream",
     "text": [
      "                                                                                \r"
     ]
    },
    {
     "name": "stdout",
     "output_type": "stream",
     "text": [
      "Trial 20: 5088 participants, 167 exposure\n"
     ]
    },
    {
     "name": "stderr",
     "output_type": "stream",
     "text": [
      "                                                                                \r"
     ]
    },
    {
     "name": "stdout",
     "output_type": "stream",
     "text": [
      "2022-09-21 19:30:42 WARN  CacheManager:66 - Asked to cache already cached data.\n"
     ]
    },
    {
     "name": "stderr",
     "output_type": "stream",
     "text": [
      "                                                                                \r"
     ]
    },
    {
     "name": "stdout",
     "output_type": "stream",
     "text": [
      "2022-09-21 19:30:56 WARN  CacheManager:66 - Asked to cache already cached data.\n",
      "2022-09-21 19:30:57 WARN  CacheManager:66 - Asked to cache already cached data.\n"
     ]
    },
    {
     "name": "stderr",
     "output_type": "stream",
     "text": [
      "                                                                                ]\r"
     ]
    },
    {
     "name": "stdout",
     "output_type": "stream",
     "text": [
      "5285 participants deemed eligible for trial num 21\n",
      "259 participants excluded due the exposure or washout period overlapping with the trial enrolment\n",
      "Trial 21: 5026 participants, 180 exposure\n"
     ]
    },
    {
     "name": "stderr",
     "output_type": "stream",
     "text": [
      "                                                                                \r"
     ]
    },
    {
     "name": "stdout",
     "output_type": "stream",
     "text": [
      "2022-09-21 19:32:18 WARN  CacheManager:66 - Asked to cache already cached data.\n"
     ]
    },
    {
     "name": "stderr",
     "output_type": "stream",
     "text": [
      "                                                                                \r"
     ]
    },
    {
     "name": "stdout",
     "output_type": "stream",
     "text": [
      "2022-09-21 19:32:34 WARN  CacheManager:66 - Asked to cache already cached data.\n",
      "2022-09-21 19:32:35 WARN  CacheManager:66 - Asked to cache already cached data.\n"
     ]
    },
    {
     "name": "stderr",
     "output_type": "stream",
     "text": [
      "                                                                                \r"
     ]
    },
    {
     "name": "stdout",
     "output_type": "stream",
     "text": [
      "5303 participants deemed eligible for trial num 22\n",
      "271 participants excluded due the exposure or washout period overlapping with the trial enrolment\n"
     ]
    },
    {
     "name": "stderr",
     "output_type": "stream",
     "text": [
      "                                                                                \r"
     ]
    },
    {
     "name": "stdout",
     "output_type": "stream",
     "text": [
      "Trial 22: 5032 participants, 178 exposure\n"
     ]
    },
    {
     "name": "stderr",
     "output_type": "stream",
     "text": [
      "                                                                                \r"
     ]
    },
    {
     "name": "stdout",
     "output_type": "stream",
     "text": [
      "2022-09-21 19:33:53 WARN  CacheManager:66 - Asked to cache already cached data.\n"
     ]
    },
    {
     "name": "stderr",
     "output_type": "stream",
     "text": [
      "                                                                                \r"
     ]
    },
    {
     "name": "stdout",
     "output_type": "stream",
     "text": [
      "2022-09-21 19:34:08 WARN  CacheManager:66 - Asked to cache already cached data.\n",
      "2022-09-21 19:34:10 WARN  CacheManager:66 - Asked to cache already cached data.\n"
     ]
    },
    {
     "name": "stderr",
     "output_type": "stream",
     "text": [
      "                                                                                ]\r"
     ]
    },
    {
     "name": "stdout",
     "output_type": "stream",
     "text": [
      "5275 participants deemed eligible for trial num 23\n",
      "277 participants excluded due the exposure or washout period overlapping with the trial enrolment\n"
     ]
    },
    {
     "name": "stderr",
     "output_type": "stream",
     "text": [
      "                                                                                \r"
     ]
    },
    {
     "name": "stdout",
     "output_type": "stream",
     "text": [
      "Trial 23: 4998 participants, 179 exposure\n"
     ]
    },
    {
     "name": "stderr",
     "output_type": "stream",
     "text": [
      "                                                                                \r"
     ]
    },
    {
     "name": "stdout",
     "output_type": "stream",
     "text": [
      "2022-09-21 19:35:33 WARN  CacheManager:66 - Asked to cache already cached data.\n"
     ]
    },
    {
     "name": "stderr",
     "output_type": "stream",
     "text": [
      "                                                                                \r"
     ]
    },
    {
     "name": "stdout",
     "output_type": "stream",
     "text": [
      "2022-09-21 19:35:48 WARN  CacheManager:66 - Asked to cache already cached data.\n",
      "2022-09-21 19:35:50 WARN  CacheManager:66 - Asked to cache already cached data.\n"
     ]
    },
    {
     "name": "stderr",
     "output_type": "stream",
     "text": [
      "                                                                                ]\r"
     ]
    },
    {
     "name": "stdout",
     "output_type": "stream",
     "text": [
      "5164 participants deemed eligible for trial num 24\n",
      "280 participants excluded due the exposure or washout period overlapping with the trial enrolment\n",
      "Trial 24: 4884 participants, 177 exposure\n"
     ]
    },
    {
     "name": "stderr",
     "output_type": "stream",
     "text": [
      "                                                                                \r"
     ]
    },
    {
     "name": "stdout",
     "output_type": "stream",
     "text": [
      "2022-09-21 19:37:04 WARN  CacheManager:66 - Asked to cache already cached data.\n"
     ]
    },
    {
     "name": "stderr",
     "output_type": "stream",
     "text": [
      "                                                                                \r"
     ]
    },
    {
     "name": "stdout",
     "output_type": "stream",
     "text": [
      "2022-09-21 19:37:20 WARN  CacheManager:66 - Asked to cache already cached data.\n",
      "2022-09-21 19:37:21 WARN  CacheManager:66 - Asked to cache already cached data.\n"
     ]
    },
    {
     "name": "stderr",
     "output_type": "stream",
     "text": [
      "                                                                                ]\r"
     ]
    },
    {
     "name": "stdout",
     "output_type": "stream",
     "text": [
      "5171 participants deemed eligible for trial num 25\n",
      "279 participants excluded due the exposure or washout period overlapping with the trial enrolment\n"
     ]
    },
    {
     "name": "stderr",
     "output_type": "stream",
     "text": [
      "                                                                                \r"
     ]
    },
    {
     "name": "stdout",
     "output_type": "stream",
     "text": [
      "Trial 25: 4892 participants, 187 exposure\n"
     ]
    },
    {
     "name": "stderr",
     "output_type": "stream",
     "text": [
      "                                                                                \r"
     ]
    },
    {
     "name": "stdout",
     "output_type": "stream",
     "text": [
      "2022-09-21 19:38:39 WARN  CacheManager:66 - Asked to cache already cached data.\n"
     ]
    },
    {
     "name": "stderr",
     "output_type": "stream",
     "text": [
      "                                                                                \r"
     ]
    },
    {
     "name": "stdout",
     "output_type": "stream",
     "text": [
      "2022-09-21 19:38:54 WARN  CacheManager:66 - Asked to cache already cached data.\n",
      "2022-09-21 19:38:56 WARN  CacheManager:66 - Asked to cache already cached data.\n"
     ]
    },
    {
     "name": "stderr",
     "output_type": "stream",
     "text": [
      "                                                                                ]\r"
     ]
    },
    {
     "name": "stdout",
     "output_type": "stream",
     "text": [
      "5108 participants deemed eligible for trial num 26\n",
      "283 participants excluded due the exposure or washout period overlapping with the trial enrolment\n"
     ]
    },
    {
     "name": "stderr",
     "output_type": "stream",
     "text": [
      "                                                                                \r"
     ]
    },
    {
     "name": "stdout",
     "output_type": "stream",
     "text": [
      "Trial 26: 4825 participants, 187 exposure\n"
     ]
    },
    {
     "name": "stderr",
     "output_type": "stream",
     "text": [
      "                                                                                \r"
     ]
    },
    {
     "name": "stdout",
     "output_type": "stream",
     "text": [
      "2022-09-21 19:40:13 WARN  CacheManager:66 - Asked to cache already cached data.\n"
     ]
    },
    {
     "name": "stderr",
     "output_type": "stream",
     "text": [
      "                                                                                \r"
     ]
    },
    {
     "name": "stdout",
     "output_type": "stream",
     "text": [
      "2022-09-21 19:40:30 WARN  CacheManager:66 - Asked to cache already cached data.\n",
      "2022-09-21 19:40:31 WARN  CacheManager:66 - Asked to cache already cached data.\n"
     ]
    },
    {
     "name": "stderr",
     "output_type": "stream",
     "text": [
      "                                                                                ]\r"
     ]
    },
    {
     "name": "stdout",
     "output_type": "stream",
     "text": [
      "5080 participants deemed eligible for trial num 27\n"
     ]
    },
    {
     "name": "stderr",
     "output_type": "stream",
     "text": [
      "                                                                                \r"
     ]
    },
    {
     "name": "stdout",
     "output_type": "stream",
     "text": [
      "281 participants excluded due the exposure or washout period overlapping with the trial enrolment\n"
     ]
    },
    {
     "name": "stderr",
     "output_type": "stream",
     "text": [
      "                                                                                \r"
     ]
    },
    {
     "name": "stdout",
     "output_type": "stream",
     "text": [
      "Trial 27: 4799 participants, 193 exposure\n"
     ]
    },
    {
     "name": "stderr",
     "output_type": "stream",
     "text": [
      "                                                                                \r"
     ]
    },
    {
     "name": "stdout",
     "output_type": "stream",
     "text": [
      "2022-09-21 19:41:50 WARN  CacheManager:66 - Asked to cache already cached data.\n"
     ]
    },
    {
     "name": "stderr",
     "output_type": "stream",
     "text": [
      "                                                                                \r"
     ]
    },
    {
     "name": "stdout",
     "output_type": "stream",
     "text": [
      "2022-09-21 19:42:08 WARN  CacheManager:66 - Asked to cache already cached data.\n",
      "2022-09-21 19:42:09 WARN  CacheManager:66 - Asked to cache already cached data.\n"
     ]
    },
    {
     "name": "stderr",
     "output_type": "stream",
     "text": [
      "                                                                                ]\r"
     ]
    },
    {
     "name": "stdout",
     "output_type": "stream",
     "text": [
      "5073 participants deemed eligible for trial num 28\n"
     ]
    },
    {
     "name": "stderr",
     "output_type": "stream",
     "text": [
      "                                                                                \r"
     ]
    },
    {
     "name": "stdout",
     "output_type": "stream",
     "text": [
      "282 participants excluded due the exposure or washout period overlapping with the trial enrolment\n"
     ]
    },
    {
     "name": "stderr",
     "output_type": "stream",
     "text": [
      "                                                                                \r"
     ]
    },
    {
     "name": "stdout",
     "output_type": "stream",
     "text": [
      "Trial 28: 4791 participants, 202 exposure\n"
     ]
    },
    {
     "name": "stderr",
     "output_type": "stream",
     "text": [
      "                                                                                \r"
     ]
    },
    {
     "name": "stdout",
     "output_type": "stream",
     "text": [
      "2022-09-21 19:43:31 WARN  CacheManager:66 - Asked to cache already cached data.\n"
     ]
    },
    {
     "name": "stderr",
     "output_type": "stream",
     "text": [
      "                                                                                \r"
     ]
    },
    {
     "name": "stdout",
     "output_type": "stream",
     "text": [
      "2022-09-21 19:43:48 WARN  CacheManager:66 - Asked to cache already cached data.\n",
      "2022-09-21 19:43:49 WARN  CacheManager:66 - Asked to cache already cached data.\n"
     ]
    },
    {
     "name": "stderr",
     "output_type": "stream",
     "text": [
      "                                                                                ]\r"
     ]
    },
    {
     "name": "stdout",
     "output_type": "stream",
     "text": [
      "5061 participants deemed eligible for trial num 29\n"
     ]
    },
    {
     "name": "stderr",
     "output_type": "stream",
     "text": [
      "                                                                                \r"
     ]
    },
    {
     "name": "stdout",
     "output_type": "stream",
     "text": [
      "286 participants excluded due the exposure or washout period overlapping with the trial enrolment\n"
     ]
    },
    {
     "name": "stderr",
     "output_type": "stream",
     "text": [
      "                                                                                \r"
     ]
    },
    {
     "name": "stdout",
     "output_type": "stream",
     "text": [
      "Trial 29: 4775 participants, 206 exposure\n"
     ]
    },
    {
     "name": "stderr",
     "output_type": "stream",
     "text": [
      "                                                                                \r"
     ]
    },
    {
     "name": "stdout",
     "output_type": "stream",
     "text": [
      "2022-09-21 19:45:08 WARN  CacheManager:66 - Asked to cache already cached data.\n"
     ]
    },
    {
     "name": "stderr",
     "output_type": "stream",
     "text": [
      "                                                                                \r"
     ]
    },
    {
     "name": "stdout",
     "output_type": "stream",
     "text": [
      "2022-09-21 19:45:26 WARN  CacheManager:66 - Asked to cache already cached data.\n",
      "2022-09-21 19:45:28 WARN  CacheManager:66 - Asked to cache already cached data.\n"
     ]
    },
    {
     "name": "stderr",
     "output_type": "stream",
     "text": [
      "                                                                                 1]\r"
     ]
    },
    {
     "name": "stdout",
     "output_type": "stream",
     "text": [
      "5001 participants deemed eligible for trial num 30\n",
      "282 participants excluded due the exposure or washout period overlapping with the trial enrolment\n",
      "Trial 30: 4719 participants, 206 exposure\n"
     ]
    },
    {
     "name": "stderr",
     "output_type": "stream",
     "text": [
      "                                                                                \r"
     ]
    },
    {
     "name": "stdout",
     "output_type": "stream",
     "text": [
      "2022-09-21 19:46:50 WARN  CacheManager:66 - Asked to cache already cached data.\n"
     ]
    },
    {
     "name": "stderr",
     "output_type": "stream",
     "text": [
      "                                                                                \r"
     ]
    },
    {
     "name": "stdout",
     "output_type": "stream",
     "text": [
      "2022-09-21 19:47:07 WARN  CacheManager:66 - Asked to cache already cached data.\n",
      "2022-09-21 19:47:09 WARN  CacheManager:66 - Asked to cache already cached data.\n"
     ]
    },
    {
     "name": "stderr",
     "output_type": "stream",
     "text": [
      "                                                                                1]\r"
     ]
    },
    {
     "name": "stdout",
     "output_type": "stream",
     "text": [
      "4942 participants deemed eligible for trial num 31\n",
      "286 participants excluded due the exposure or washout period overlapping with the trial enrolment\n",
      "Trial 31: 4656 participants, 185 exposure\n"
     ]
    },
    {
     "name": "stderr",
     "output_type": "stream",
     "text": [
      "                                                                                \r"
     ]
    },
    {
     "name": "stdout",
     "output_type": "stream",
     "text": [
      "2022-09-21 19:48:32 WARN  CacheManager:66 - Asked to cache already cached data.\n"
     ]
    },
    {
     "name": "stderr",
     "output_type": "stream",
     "text": [
      "                                                                                \r"
     ]
    },
    {
     "name": "stdout",
     "output_type": "stream",
     "text": [
      "2022-09-21 19:48:51 WARN  CacheManager:66 - Asked to cache already cached data.\n",
      "2022-09-21 19:48:52 WARN  CacheManager:66 - Asked to cache already cached data.\n"
     ]
    },
    {
     "name": "stderr",
     "output_type": "stream",
     "text": [
      "                                                                                18]\r"
     ]
    },
    {
     "name": "stdout",
     "output_type": "stream",
     "text": [
      "4907 participants deemed eligible for trial num 32\n"
     ]
    },
    {
     "name": "stderr",
     "output_type": "stream",
     "text": [
      "                                                                                \r"
     ]
    },
    {
     "name": "stdout",
     "output_type": "stream",
     "text": [
      "288 participants excluded due the exposure or washout period overlapping with the trial enrolment\n"
     ]
    },
    {
     "name": "stderr",
     "output_type": "stream",
     "text": [
      "                                                                                \r"
     ]
    },
    {
     "name": "stdout",
     "output_type": "stream",
     "text": [
      "Trial 32: 4619 participants, 195 exposure\n"
     ]
    },
    {
     "name": "stderr",
     "output_type": "stream",
     "text": [
      "                                                                                \r"
     ]
    },
    {
     "name": "stdout",
     "output_type": "stream",
     "text": [
      "2022-09-21 19:50:19 WARN  CacheManager:66 - Asked to cache already cached data.\n"
     ]
    },
    {
     "name": "stderr",
     "output_type": "stream",
     "text": [
      "                                                                                \r"
     ]
    },
    {
     "name": "stdout",
     "output_type": "stream",
     "text": [
      "2022-09-21 19:50:33 WARN  CacheManager:66 - Asked to cache already cached data.\n",
      "2022-09-21 19:50:34 WARN  CacheManager:66 - Asked to cache already cached data.\n"
     ]
    },
    {
     "name": "stderr",
     "output_type": "stream",
     "text": [
      "                                                                                 3]\r"
     ]
    },
    {
     "name": "stdout",
     "output_type": "stream",
     "text": [
      "4865 participants deemed eligible for trial num 33\n"
     ]
    },
    {
     "name": "stderr",
     "output_type": "stream",
     "text": [
      "                                                                                \r"
     ]
    },
    {
     "name": "stdout",
     "output_type": "stream",
     "text": [
      "284 participants excluded due the exposure or washout period overlapping with the trial enrolment\n"
     ]
    },
    {
     "name": "stderr",
     "output_type": "stream",
     "text": [
      "                                                                                \r"
     ]
    },
    {
     "name": "stdout",
     "output_type": "stream",
     "text": [
      "Trial 33: 4581 participants, 205 exposure\n"
     ]
    },
    {
     "name": "stderr",
     "output_type": "stream",
     "text": [
      "                                                                                \r"
     ]
    },
    {
     "name": "stdout",
     "output_type": "stream",
     "text": [
      "2022-09-21 19:52:02 WARN  CacheManager:66 - Asked to cache already cached data.\n"
     ]
    },
    {
     "name": "stderr",
     "output_type": "stream",
     "text": [
      "                                                                                \r"
     ]
    },
    {
     "name": "stdout",
     "output_type": "stream",
     "text": [
      "2022-09-21 19:52:16 WARN  CacheManager:66 - Asked to cache already cached data.\n",
      "2022-09-21 19:52:17 WARN  CacheManager:66 - Asked to cache already cached data.\n"
     ]
    },
    {
     "name": "stderr",
     "output_type": "stream",
     "text": [
      "                                                                                18]\r"
     ]
    },
    {
     "name": "stdout",
     "output_type": "stream",
     "text": [
      "4872 participants deemed eligible for trial num 34\n",
      "279 participants excluded due the exposure or washout period overlapping with the trial enrolment\n"
     ]
    },
    {
     "name": "stderr",
     "output_type": "stream",
     "text": [
      "                                                                                \r"
     ]
    },
    {
     "name": "stdout",
     "output_type": "stream",
     "text": [
      "Trial 34: 4593 participants, 208 exposure\n"
     ]
    },
    {
     "name": "stderr",
     "output_type": "stream",
     "text": [
      "                                                                                \r"
     ]
    },
    {
     "name": "stdout",
     "output_type": "stream",
     "text": [
      "2022-09-21 19:53:34 WARN  CacheManager:66 - Asked to cache already cached data.\n"
     ]
    },
    {
     "name": "stderr",
     "output_type": "stream",
     "text": [
      "                                                                                \r"
     ]
    },
    {
     "name": "stdout",
     "output_type": "stream",
     "text": [
      "2022-09-21 19:53:52 WARN  CacheManager:66 - Asked to cache already cached data.\n",
      "2022-09-21 19:53:54 WARN  CacheManager:66 - Asked to cache already cached data.\n"
     ]
    },
    {
     "name": "stderr",
     "output_type": "stream",
     "text": [
      "                                                                                 4]\r"
     ]
    },
    {
     "name": "stdout",
     "output_type": "stream",
     "text": [
      "4835 participants deemed eligible for trial num 35\n",
      "278 participants excluded due the exposure or washout period overlapping with the trial enrolment\n"
     ]
    },
    {
     "name": "stderr",
     "output_type": "stream",
     "text": [
      "                                                                                \r"
     ]
    },
    {
     "name": "stdout",
     "output_type": "stream",
     "text": [
      "Trial 35: 4557 participants, 220 exposure\n"
     ]
    },
    {
     "name": "stderr",
     "output_type": "stream",
     "text": [
      "                                                                                \r"
     ]
    },
    {
     "name": "stdout",
     "output_type": "stream",
     "text": [
      "2022-09-21 19:55:16 WARN  CacheManager:66 - Asked to cache already cached data.\n"
     ]
    },
    {
     "name": "stderr",
     "output_type": "stream",
     "text": [
      "                                                                                \r"
     ]
    },
    {
     "name": "stdout",
     "output_type": "stream",
     "text": [
      "2022-09-21 19:55:32 WARN  CacheManager:66 - Asked to cache already cached data.\n",
      "2022-09-21 19:55:34 WARN  CacheManager:66 - Asked to cache already cached data.\n"
     ]
    },
    {
     "name": "stderr",
     "output_type": "stream",
     "text": [
      "                                                                                18]\r"
     ]
    },
    {
     "name": "stdout",
     "output_type": "stream",
     "text": [
      "4769 participants deemed eligible for trial num 36\n",
      "274 participants excluded due the exposure or washout period overlapping with the trial enrolment\n"
     ]
    },
    {
     "name": "stderr",
     "output_type": "stream",
     "text": [
      "                                                                                \r"
     ]
    },
    {
     "name": "stdout",
     "output_type": "stream",
     "text": [
      "Trial 36: 4495 participants, 228 exposure\n"
     ]
    },
    {
     "name": "stderr",
     "output_type": "stream",
     "text": [
      "                                                                                \r"
     ]
    },
    {
     "name": "stdout",
     "output_type": "stream",
     "text": [
      "2022-09-21 19:56:56 WARN  CacheManager:66 - Asked to cache already cached data.\n"
     ]
    },
    {
     "name": "stderr",
     "output_type": "stream",
     "text": [
      "                                                                                \r"
     ]
    },
    {
     "name": "stdout",
     "output_type": "stream",
     "text": [
      "2022-09-21 19:57:10 WARN  CacheManager:66 - Asked to cache already cached data.\n",
      "2022-09-21 19:57:12 WARN  CacheManager:66 - Asked to cache already cached data.\n"
     ]
    },
    {
     "name": "stderr",
     "output_type": "stream",
     "text": [
      "                                                                                00]\r"
     ]
    },
    {
     "name": "stdout",
     "output_type": "stream",
     "text": [
      "4770 participants deemed eligible for trial num 37\n",
      "272 participants excluded due the exposure or washout period overlapping with the trial enrolment\n",
      "Trial 37: 4498 participants, 233 exposure\n"
     ]
    },
    {
     "name": "stderr",
     "output_type": "stream",
     "text": [
      "                                                                                \r"
     ]
    },
    {
     "name": "stdout",
     "output_type": "stream",
     "text": [
      "2022-09-21 19:58:28 WARN  CacheManager:66 - Asked to cache already cached data.\n"
     ]
    },
    {
     "name": "stderr",
     "output_type": "stream",
     "text": [
      "                                                                                \r"
     ]
    },
    {
     "name": "stdout",
     "output_type": "stream",
     "text": [
      "2022-09-21 19:58:44 WARN  CacheManager:66 - Asked to cache already cached data.\n",
      "2022-09-21 19:58:45 WARN  CacheManager:66 - Asked to cache already cached data.\n"
     ]
    },
    {
     "name": "stderr",
     "output_type": "stream",
     "text": [
      "                                                                                0]\r"
     ]
    },
    {
     "name": "stdout",
     "output_type": "stream",
     "text": [
      "4766 participants deemed eligible for trial num 38\n",
      "266 participants excluded due the exposure or washout period overlapping with the trial enrolment\n",
      "Trial 38: 4500 participants, 243 exposure\n"
     ]
    },
    {
     "name": "stderr",
     "output_type": "stream",
     "text": [
      "                                                                                \r"
     ]
    },
    {
     "name": "stdout",
     "output_type": "stream",
     "text": [
      "2022-09-21 19:59:59 WARN  CacheManager:66 - Asked to cache already cached data.\n"
     ]
    },
    {
     "name": "stderr",
     "output_type": "stream",
     "text": [
      "                                                                                \r"
     ]
    },
    {
     "name": "stdout",
     "output_type": "stream",
     "text": [
      "2022-09-21 20:00:16 WARN  CacheManager:66 - Asked to cache already cached data.\n",
      "2022-09-21 20:00:17 WARN  CacheManager:66 - Asked to cache already cached data.\n"
     ]
    },
    {
     "name": "stderr",
     "output_type": "stream",
     "text": [
      "                                                                                0]\r"
     ]
    },
    {
     "name": "stdout",
     "output_type": "stream",
     "text": [
      "4766 participants deemed eligible for trial num 39\n",
      "268 participants excluded due the exposure or washout period overlapping with the trial enrolment\n",
      "Trial 39: 4498 participants, 251 exposure\n"
     ]
    },
    {
     "name": "stderr",
     "output_type": "stream",
     "text": [
      "                                                                                \r"
     ]
    },
    {
     "name": "stdout",
     "output_type": "stream",
     "text": [
      "2022-09-21 20:01:41 WARN  CacheManager:66 - Asked to cache already cached data.\n"
     ]
    },
    {
     "name": "stderr",
     "output_type": "stream",
     "text": [
      "                                                                                \r"
     ]
    },
    {
     "name": "stdout",
     "output_type": "stream",
     "text": [
      "2022-09-21 20:01:55 WARN  CacheManager:66 - Asked to cache already cached data.\n",
      "2022-09-21 20:01:56 WARN  CacheManager:66 - Asked to cache already cached data.\n"
     ]
    },
    {
     "name": "stderr",
     "output_type": "stream",
     "text": [
      "                                                                                1]]\r"
     ]
    },
    {
     "name": "stdout",
     "output_type": "stream",
     "text": [
      "4750 participants deemed eligible for trial num 40\n",
      "274 participants excluded due the exposure or washout period overlapping with the trial enrolment\n"
     ]
    },
    {
     "name": "stderr",
     "output_type": "stream",
     "text": [
      "                                                                                \r"
     ]
    },
    {
     "name": "stdout",
     "output_type": "stream",
     "text": [
      "Trial 40: 4476 participants, 243 exposure\n"
     ]
    },
    {
     "name": "stderr",
     "output_type": "stream",
     "text": [
      "                                                                                \r"
     ]
    },
    {
     "name": "stdout",
     "output_type": "stream",
     "text": [
      "2022-09-21 20:03:18 WARN  CacheManager:66 - Asked to cache already cached data.\n"
     ]
    },
    {
     "name": "stderr",
     "output_type": "stream",
     "text": [
      "                                                                                \r"
     ]
    },
    {
     "name": "stdout",
     "output_type": "stream",
     "text": [
      "2022-09-21 20:03:34 WARN  CacheManager:66 - Asked to cache already cached data.\n",
      "2022-09-21 20:03:36 WARN  CacheManager:66 - Asked to cache already cached data.\n"
     ]
    },
    {
     "name": "stderr",
     "output_type": "stream",
     "text": [
      "                                                                                1]\r"
     ]
    },
    {
     "name": "stdout",
     "output_type": "stream",
     "text": [
      "4724 participants deemed eligible for trial num 41\n",
      "275 participants excluded due the exposure or washout period overlapping with the trial enrolment\n"
     ]
    },
    {
     "name": "stderr",
     "output_type": "stream",
     "text": [
      "                                                                                \r"
     ]
    },
    {
     "name": "stdout",
     "output_type": "stream",
     "text": [
      "Trial 41: 4449 participants, 237 exposure\n"
     ]
    },
    {
     "name": "stderr",
     "output_type": "stream",
     "text": [
      "                                                                                \r"
     ]
    },
    {
     "name": "stdout",
     "output_type": "stream",
     "text": [
      "2022-09-21 20:04:59 WARN  CacheManager:66 - Asked to cache already cached data.\n"
     ]
    },
    {
     "name": "stderr",
     "output_type": "stream",
     "text": [
      "                                                                                \r"
     ]
    },
    {
     "name": "stdout",
     "output_type": "stream",
     "text": [
      "2022-09-21 20:05:12 WARN  CacheManager:66 - Asked to cache already cached data.\n",
      "2022-09-21 20:05:14 WARN  CacheManager:66 - Asked to cache already cached data.\n"
     ]
    },
    {
     "name": "stderr",
     "output_type": "stream",
     "text": [
      "                                                                                5]\r"
     ]
    },
    {
     "name": "stdout",
     "output_type": "stream",
     "text": [
      "4680 participants deemed eligible for trial num 42\n",
      "271 participants excluded due the exposure or washout period overlapping with the trial enrolment\n",
      "Trial 42: 4409 participants, 233 exposure\n"
     ]
    },
    {
     "name": "stderr",
     "output_type": "stream",
     "text": [
      "                                                                                \r"
     ]
    },
    {
     "name": "stdout",
     "output_type": "stream",
     "text": [
      "2022-09-21 20:06:28 WARN  CacheManager:66 - Asked to cache already cached data.\n"
     ]
    },
    {
     "name": "stderr",
     "output_type": "stream",
     "text": [
      "                                                                                \r"
     ]
    },
    {
     "name": "stdout",
     "output_type": "stream",
     "text": [
      "2022-09-21 20:06:43 WARN  CacheManager:66 - Asked to cache already cached data.\n",
      "2022-09-21 20:06:44 WARN  CacheManager:66 - Asked to cache already cached data.\n"
     ]
    },
    {
     "name": "stderr",
     "output_type": "stream",
     "text": [
      "                                                                                3]\r"
     ]
    },
    {
     "name": "stdout",
     "output_type": "stream",
     "text": [
      "4647 participants deemed eligible for trial num 43\n",
      "263 participants excluded due the exposure or washout period overlapping with the trial enrolment\n",
      "Trial 43: 4384 participants, 231 exposure\n"
     ]
    },
    {
     "name": "stderr",
     "output_type": "stream",
     "text": [
      "                                                                                \r"
     ]
    },
    {
     "name": "stdout",
     "output_type": "stream",
     "text": [
      "2022-09-21 20:08:05 WARN  CacheManager:66 - Asked to cache already cached data.\n"
     ]
    },
    {
     "name": "stderr",
     "output_type": "stream",
     "text": [
      "                                                                                \r"
     ]
    },
    {
     "name": "stdout",
     "output_type": "stream",
     "text": [
      "2022-09-21 20:08:21 WARN  CacheManager:66 - Asked to cache already cached data.\n",
      "2022-09-21 20:08:23 WARN  CacheManager:66 - Asked to cache already cached data.\n"
     ]
    },
    {
     "name": "stderr",
     "output_type": "stream",
     "text": [
      "                                                                                18]\r"
     ]
    },
    {
     "name": "stdout",
     "output_type": "stream",
     "text": [
      "4610 participants deemed eligible for trial num 44\n"
     ]
    },
    {
     "name": "stderr",
     "output_type": "stream",
     "text": [
      "                                                                                \r"
     ]
    },
    {
     "name": "stdout",
     "output_type": "stream",
     "text": [
      "259 participants excluded due the exposure or washout period overlapping with the trial enrolment\n"
     ]
    },
    {
     "name": "stderr",
     "output_type": "stream",
     "text": [
      "                                                                                \r"
     ]
    },
    {
     "name": "stdout",
     "output_type": "stream",
     "text": [
      "Trial 44: 4351 participants, 235 exposure\n"
     ]
    },
    {
     "name": "stderr",
     "output_type": "stream",
     "text": [
      "                                                                                \r"
     ]
    },
    {
     "name": "stdout",
     "output_type": "stream",
     "text": [
      "2022-09-21 20:09:34 WARN  CacheManager:66 - Asked to cache already cached data.\n"
     ]
    },
    {
     "name": "stderr",
     "output_type": "stream",
     "text": [
      "                                                                                \r"
     ]
    },
    {
     "name": "stdout",
     "output_type": "stream",
     "text": [
      "2022-09-21 20:09:51 WARN  CacheManager:66 - Asked to cache already cached data.\n",
      "2022-09-21 20:09:53 WARN  CacheManager:66 - Asked to cache already cached data.\n"
     ]
    },
    {
     "name": "stderr",
     "output_type": "stream",
     "text": [
      "                                                                                18]\r"
     ]
    },
    {
     "name": "stdout",
     "output_type": "stream",
     "text": [
      "4600 participants deemed eligible for trial num 45\n",
      "260 participants excluded due the exposure or washout period overlapping with the trial enrolment\n"
     ]
    },
    {
     "name": "stderr",
     "output_type": "stream",
     "text": [
      "                                                                                \r"
     ]
    },
    {
     "name": "stdout",
     "output_type": "stream",
     "text": [
      "Trial 45: 4340 participants, 236 exposure\n"
     ]
    },
    {
     "name": "stderr",
     "output_type": "stream",
     "text": [
      "                                                                                \r"
     ]
    },
    {
     "name": "stdout",
     "output_type": "stream",
     "text": [
      "2022-09-21 20:11:12 WARN  CacheManager:66 - Asked to cache already cached data.\n"
     ]
    },
    {
     "name": "stderr",
     "output_type": "stream",
     "text": [
      "                                                                                \r"
     ]
    },
    {
     "name": "stdout",
     "output_type": "stream",
     "text": [
      "2022-09-21 20:11:30 WARN  CacheManager:66 - Asked to cache already cached data.\n",
      "2022-09-21 20:11:32 WARN  CacheManager:66 - Asked to cache already cached data.\n"
     ]
    },
    {
     "name": "stderr",
     "output_type": "stream",
     "text": [
      "                                                                                4]\r"
     ]
    },
    {
     "name": "stdout",
     "output_type": "stream",
     "text": [
      "4564 participants deemed eligible for trial num 46\n",
      "259 participants excluded due the exposure or washout period overlapping with the trial enrolment\n",
      "Trial 46: 4305 participants, 236 exposure\n"
     ]
    },
    {
     "name": "stderr",
     "output_type": "stream",
     "text": [
      "                                                                                \r"
     ]
    },
    {
     "name": "stdout",
     "output_type": "stream",
     "text": [
      "2022-09-21 20:12:53 WARN  CacheManager:66 - Asked to cache already cached data.\n"
     ]
    },
    {
     "name": "stderr",
     "output_type": "stream",
     "text": [
      "                                                                                \r"
     ]
    },
    {
     "name": "stdout",
     "output_type": "stream",
     "text": [
      "2022-09-21 20:13:10 WARN  CacheManager:66 - Asked to cache already cached data.\n",
      "2022-09-21 20:13:12 WARN  CacheManager:66 - Asked to cache already cached data.\n"
     ]
    },
    {
     "name": "stderr",
     "output_type": "stream",
     "text": [
      "                                                                                 5]\r"
     ]
    },
    {
     "name": "stdout",
     "output_type": "stream",
     "text": [
      "4527 participants deemed eligible for trial num 47\n",
      "259 participants excluded due the exposure or washout period overlapping with the trial enrolment\n"
     ]
    },
    {
     "name": "stderr",
     "output_type": "stream",
     "text": [
      "                                                                                \r"
     ]
    },
    {
     "name": "stdout",
     "output_type": "stream",
     "text": [
      "Trial 47: 4268 participants, 237 exposure\n"
     ]
    },
    {
     "name": "stderr",
     "output_type": "stream",
     "text": [
      "                                                                                \r"
     ]
    },
    {
     "name": "stdout",
     "output_type": "stream",
     "text": [
      "2022-09-21 20:14:33 WARN  CacheManager:66 - Asked to cache already cached data.\n"
     ]
    },
    {
     "name": "stderr",
     "output_type": "stream",
     "text": [
      "                                                                                \r"
     ]
    },
    {
     "name": "stdout",
     "output_type": "stream",
     "text": [
      "2022-09-21 20:14:49 WARN  CacheManager:66 - Asked to cache already cached data.\n",
      "2022-09-21 20:14:50 WARN  CacheManager:66 - Asked to cache already cached data.\n"
     ]
    },
    {
     "name": "stderr",
     "output_type": "stream",
     "text": [
      "                                                                                4]\r"
     ]
    },
    {
     "name": "stdout",
     "output_type": "stream",
     "text": [
      "4398 participants deemed eligible for trial num 48\n"
     ]
    },
    {
     "name": "stderr",
     "output_type": "stream",
     "text": [
      "                                                                                \r"
     ]
    },
    {
     "name": "stdout",
     "output_type": "stream",
     "text": [
      "267 participants excluded due the exposure or washout period overlapping with the trial enrolment\n",
      "Trial 48: 4131 participants, 217 exposure\n"
     ]
    },
    {
     "name": "stderr",
     "output_type": "stream",
     "text": [
      "                                                                                \r"
     ]
    },
    {
     "name": "stdout",
     "output_type": "stream",
     "text": [
      "2022-09-21 20:16:12 WARN  CacheManager:66 - Asked to cache already cached data.\n"
     ]
    },
    {
     "name": "stderr",
     "output_type": "stream",
     "text": [
      "                                                                                \r"
     ]
    },
    {
     "name": "stdout",
     "output_type": "stream",
     "text": [
      "2022-09-21 20:16:32 WARN  CacheManager:66 - Asked to cache already cached data.\n",
      "2022-09-21 20:16:34 WARN  CacheManager:66 - Asked to cache already cached data.\n"
     ]
    },
    {
     "name": "stderr",
     "output_type": "stream",
     "text": [
      "                                                                                0]\r"
     ]
    },
    {
     "name": "stdout",
     "output_type": "stream",
     "text": [
      "4378 participants deemed eligible for trial num 49\n",
      "267 participants excluded due the exposure or washout period overlapping with the trial enrolment\n"
     ]
    },
    {
     "name": "stderr",
     "output_type": "stream",
     "text": [
      "                                                                                \r"
     ]
    },
    {
     "name": "stdout",
     "output_type": "stream",
     "text": [
      "Trial 49: 4111 participants, 209 exposure\n"
     ]
    },
    {
     "name": "stderr",
     "output_type": "stream",
     "text": [
      "                                                                                \r"
     ]
    },
    {
     "name": "stdout",
     "output_type": "stream",
     "text": [
      "2022-09-21 20:17:50 WARN  CacheManager:66 - Asked to cache already cached data.\n"
     ]
    },
    {
     "name": "stderr",
     "output_type": "stream",
     "text": [
      "                                                                                \r"
     ]
    },
    {
     "name": "stdout",
     "output_type": "stream",
     "text": [
      "2022-09-21 20:18:06 WARN  CacheManager:66 - Asked to cache already cached data.\n",
      "2022-09-21 20:18:07 WARN  CacheManager:66 - Asked to cache already cached data.\n"
     ]
    },
    {
     "name": "stderr",
     "output_type": "stream",
     "text": [
      "                                                                                00]\r"
     ]
    },
    {
     "name": "stdout",
     "output_type": "stream",
     "text": [
      "4366 participants deemed eligible for trial num 50\n"
     ]
    },
    {
     "name": "stderr",
     "output_type": "stream",
     "text": [
      "                                                                                \r"
     ]
    },
    {
     "name": "stdout",
     "output_type": "stream",
     "text": [
      "274 participants excluded due the exposure or washout period overlapping with the trial enrolment\n"
     ]
    },
    {
     "name": "stderr",
     "output_type": "stream",
     "text": [
      "                                                                                \r"
     ]
    },
    {
     "name": "stdout",
     "output_type": "stream",
     "text": [
      "Trial 50: 4092 participants, 220 exposure\n"
     ]
    },
    {
     "name": "stderr",
     "output_type": "stream",
     "text": [
      "                                                                                \r"
     ]
    },
    {
     "name": "stdout",
     "output_type": "stream",
     "text": [
      "2022-09-21 20:19:26 WARN  CacheManager:66 - Asked to cache already cached data.\n"
     ]
    },
    {
     "name": "stderr",
     "output_type": "stream",
     "text": [
      "                                                                                \r"
     ]
    },
    {
     "name": "stdout",
     "output_type": "stream",
     "text": [
      "2022-09-21 20:19:40 WARN  CacheManager:66 - Asked to cache already cached data.\n",
      "2022-09-21 20:19:41 WARN  CacheManager:66 - Asked to cache already cached data.\n"
     ]
    },
    {
     "name": "stderr",
     "output_type": "stream",
     "text": [
      "                                                                                4]\r"
     ]
    },
    {
     "name": "stdout",
     "output_type": "stream",
     "text": [
      "4376 participants deemed eligible for trial num 51\n"
     ]
    },
    {
     "name": "stderr",
     "output_type": "stream",
     "text": [
      "                                                                                \r"
     ]
    },
    {
     "name": "stdout",
     "output_type": "stream",
     "text": [
      "269 participants excluded due the exposure or washout period overlapping with the trial enrolment\n"
     ]
    },
    {
     "name": "stderr",
     "output_type": "stream",
     "text": [
      "                                                                                \r"
     ]
    },
    {
     "name": "stdout",
     "output_type": "stream",
     "text": [
      "Trial 51: 4107 participants, 224 exposure\n"
     ]
    },
    {
     "name": "stderr",
     "output_type": "stream",
     "text": [
      "                                                                                \r"
     ]
    },
    {
     "name": "stdout",
     "output_type": "stream",
     "text": [
      "2022-09-21 20:21:09 WARN  CacheManager:66 - Asked to cache already cached data.\n"
     ]
    },
    {
     "name": "stderr",
     "output_type": "stream",
     "text": [
      "                                                                                \r"
     ]
    },
    {
     "name": "stdout",
     "output_type": "stream",
     "text": [
      "2022-09-21 20:21:25 WARN  CacheManager:66 - Asked to cache already cached data.\n",
      "2022-09-21 20:21:26 WARN  CacheManager:66 - Asked to cache already cached data.\n"
     ]
    },
    {
     "name": "stderr",
     "output_type": "stream",
     "text": [
      "                                                                                1]]\r"
     ]
    },
    {
     "name": "stdout",
     "output_type": "stream",
     "text": [
      "4366 participants deemed eligible for trial num 52\n"
     ]
    },
    {
     "name": "stderr",
     "output_type": "stream",
     "text": [
      "                                                                                \r"
     ]
    },
    {
     "name": "stdout",
     "output_type": "stream",
     "text": [
      "268 participants excluded due the exposure or washout period overlapping with the trial enrolment\n"
     ]
    },
    {
     "name": "stderr",
     "output_type": "stream",
     "text": [
      "                                                                                \r"
     ]
    },
    {
     "name": "stdout",
     "output_type": "stream",
     "text": [
      "Trial 52: 4098 participants, 224 exposure\n"
     ]
    },
    {
     "name": "stderr",
     "output_type": "stream",
     "text": [
      "                                                                                \r"
     ]
    },
    {
     "name": "stdout",
     "output_type": "stream",
     "text": [
      "2022-09-21 20:22:49 WARN  CacheManager:66 - Asked to cache already cached data.\n"
     ]
    },
    {
     "name": "stderr",
     "output_type": "stream",
     "text": [
      "                                                                                \r"
     ]
    },
    {
     "name": "stdout",
     "output_type": "stream",
     "text": [
      "2022-09-21 20:23:08 WARN  CacheManager:66 - Asked to cache already cached data.\n",
      "2022-09-21 20:23:09 WARN  CacheManager:66 - Asked to cache already cached data.\n"
     ]
    },
    {
     "name": "stderr",
     "output_type": "stream",
     "text": [
      "                                                                                8]]\r"
     ]
    },
    {
     "name": "stdout",
     "output_type": "stream",
     "text": [
      "4254 participants deemed eligible for trial num 53\n",
      "261 participants excluded due the exposure or washout period overlapping with the trial enrolment\n"
     ]
    },
    {
     "name": "stderr",
     "output_type": "stream",
     "text": [
      "                                                                                \r"
     ]
    },
    {
     "name": "stdout",
     "output_type": "stream",
     "text": [
      "Trial 53: 3993 participants, 215 exposure\n"
     ]
    },
    {
     "name": "stderr",
     "output_type": "stream",
     "text": [
      "                                                                                \r"
     ]
    },
    {
     "name": "stdout",
     "output_type": "stream",
     "text": [
      "2022-09-21 20:24:29 WARN  CacheManager:66 - Asked to cache already cached data.\n"
     ]
    },
    {
     "name": "stderr",
     "output_type": "stream",
     "text": [
      "                                                                                \r"
     ]
    },
    {
     "name": "stdout",
     "output_type": "stream",
     "text": [
      "2022-09-21 20:24:43 WARN  CacheManager:66 - Asked to cache already cached data.\n",
      "2022-09-21 20:24:45 WARN  CacheManager:66 - Asked to cache already cached data.\n"
     ]
    },
    {
     "name": "stderr",
     "output_type": "stream",
     "text": [
      "                                                                                4]\r"
     ]
    },
    {
     "name": "stdout",
     "output_type": "stream",
     "text": [
      "4212 participants deemed eligible for trial num 54\n",
      "261 participants excluded due the exposure or washout period overlapping with the trial enrolment\n",
      "Trial 54: 3951 participants, 207 exposure\n"
     ]
    },
    {
     "name": "stderr",
     "output_type": "stream",
     "text": [
      "                                                                                \r"
     ]
    },
    {
     "name": "stdout",
     "output_type": "stream",
     "text": [
      "2022-09-21 20:26:00 WARN  CacheManager:66 - Asked to cache already cached data.\n"
     ]
    },
    {
     "name": "stderr",
     "output_type": "stream",
     "text": [
      "                                                                                \r"
     ]
    },
    {
     "name": "stdout",
     "output_type": "stream",
     "text": [
      "2022-09-21 20:26:15 WARN  CacheManager:66 - Asked to cache already cached data.\n",
      "2022-09-21 20:26:16 WARN  CacheManager:66 - Asked to cache already cached data.\n"
     ]
    },
    {
     "name": "stderr",
     "output_type": "stream",
     "text": [
      "                                                                                ]]]\r"
     ]
    },
    {
     "name": "stdout",
     "output_type": "stream",
     "text": [
      "4183 participants deemed eligible for trial num 55\n",
      "261 participants excluded due the exposure or washout period overlapping with the trial enrolment\n",
      "Trial 55: 3922 participants, 214 exposure\n"
     ]
    },
    {
     "name": "stderr",
     "output_type": "stream",
     "text": [
      "                                                                                \r"
     ]
    },
    {
     "name": "stdout",
     "output_type": "stream",
     "text": [
      "2022-09-21 20:27:34 WARN  CacheManager:66 - Asked to cache already cached data.\n"
     ]
    },
    {
     "name": "stderr",
     "output_type": "stream",
     "text": [
      "                                                                                \r"
     ]
    },
    {
     "name": "stdout",
     "output_type": "stream",
     "text": [
      "2022-09-21 20:27:54 WARN  CacheManager:66 - Asked to cache already cached data.\n",
      "2022-09-21 20:27:56 WARN  CacheManager:66 - Asked to cache already cached data.\n"
     ]
    },
    {
     "name": "stderr",
     "output_type": "stream",
     "text": [
      "                                                                                ]]\r"
     ]
    },
    {
     "name": "stdout",
     "output_type": "stream",
     "text": [
      "4173 participants deemed eligible for trial num 56\n",
      "270 participants excluded due the exposure or washout period overlapping with the trial enrolment\n"
     ]
    },
    {
     "name": "stderr",
     "output_type": "stream",
     "text": [
      "                                                                                \r"
     ]
    },
    {
     "name": "stdout",
     "output_type": "stream",
     "text": [
      "Trial 56: 3903 participants, 214 exposure\n"
     ]
    },
    {
     "name": "stderr",
     "output_type": "stream",
     "text": [
      "                                                                                \r"
     ]
    },
    {
     "name": "stdout",
     "output_type": "stream",
     "text": [
      "2022-09-21 20:29:05 WARN  CacheManager:66 - Asked to cache already cached data.\n"
     ]
    },
    {
     "name": "stderr",
     "output_type": "stream",
     "text": [
      "                                                                                \r"
     ]
    },
    {
     "name": "stdout",
     "output_type": "stream",
     "text": [
      "2022-09-21 20:29:22 WARN  CacheManager:66 - Asked to cache already cached data.\n",
      "2022-09-21 20:29:23 WARN  CacheManager:66 - Asked to cache already cached data.\n"
     ]
    },
    {
     "name": "stderr",
     "output_type": "stream",
     "text": [
      "                                                                                5]\r"
     ]
    },
    {
     "name": "stdout",
     "output_type": "stream",
     "text": [
      "4160 participants deemed eligible for trial num 57\n"
     ]
    },
    {
     "name": "stderr",
     "output_type": "stream",
     "text": [
      "                                                                                \r"
     ]
    },
    {
     "name": "stdout",
     "output_type": "stream",
     "text": [
      "275 participants excluded due the exposure or washout period overlapping with the trial enrolment\n",
      "Trial 57: 3885 participants, 207 exposure\n"
     ]
    },
    {
     "name": "stderr",
     "output_type": "stream",
     "text": [
      "[Stage 19215:=============================================>    (181 + 19) / 200]"
     ]
    },
    {
     "name": "stdout",
     "output_type": "stream",
     "text": [
      "2022-09-21 20:30:40 WARN  CacheManager:66 - Asked to cache already cached data.\n"
     ]
    },
    {
     "name": "stderr",
     "output_type": "stream",
     "text": [
      "                                                                                \r"
     ]
    },
    {
     "name": "stdout",
     "output_type": "stream",
     "text": [
      "2022-09-21 20:30:58 WARN  CacheManager:66 - Asked to cache already cached data.\n",
      "2022-09-21 20:30:59 WARN  CacheManager:66 - Asked to cache already cached data.\n"
     ]
    },
    {
     "name": "stderr",
     "output_type": "stream",
     "text": [
      "                                                                                5]\r"
     ]
    },
    {
     "name": "stdout",
     "output_type": "stream",
     "text": [
      "4109 participants deemed eligible for trial num 58\n"
     ]
    },
    {
     "name": "stderr",
     "output_type": "stream",
     "text": [
      "                                                                                \r"
     ]
    },
    {
     "name": "stdout",
     "output_type": "stream",
     "text": [
      "271 participants excluded due the exposure or washout period overlapping with the trial enrolment\n"
     ]
    },
    {
     "name": "stderr",
     "output_type": "stream",
     "text": [
      "                                                                                \r"
     ]
    },
    {
     "name": "stdout",
     "output_type": "stream",
     "text": [
      "Trial 58: 3838 participants, 212 exposure\n"
     ]
    },
    {
     "name": "stderr",
     "output_type": "stream",
     "text": [
      "                                                                                \r"
     ]
    },
    {
     "name": "stdout",
     "output_type": "stream",
     "text": [
      "2022-09-21 20:32:17 WARN  CacheManager:66 - Asked to cache already cached data.\n"
     ]
    },
    {
     "name": "stderr",
     "output_type": "stream",
     "text": [
      "                                                                                \r"
     ]
    },
    {
     "name": "stdout",
     "output_type": "stream",
     "text": [
      "2022-09-21 20:32:37 WARN  CacheManager:66 - Asked to cache already cached data.\n",
      "2022-09-21 20:32:39 WARN  CacheManager:66 - Asked to cache already cached data.\n"
     ]
    },
    {
     "name": "stderr",
     "output_type": "stream",
     "text": [
      "                                                                                3]\r"
     ]
    },
    {
     "name": "stdout",
     "output_type": "stream",
     "text": [
      "4109 participants deemed eligible for trial num 59\n"
     ]
    },
    {
     "name": "stderr",
     "output_type": "stream",
     "text": [
      "                                                                                \r"
     ]
    },
    {
     "name": "stdout",
     "output_type": "stream",
     "text": [
      "270 participants excluded due the exposure or washout period overlapping with the trial enrolment\n",
      "Trial 59: 3839 participants, 212 exposure\n"
     ]
    },
    {
     "name": "stderr",
     "output_type": "stream",
     "text": [
      "                                                                                \r"
     ]
    },
    {
     "name": "stdout",
     "output_type": "stream",
     "text": [
      "2022-09-21 20:33:59 WARN  CacheManager:66 - Asked to cache already cached data.\n"
     ]
    },
    {
     "name": "stderr",
     "output_type": "stream",
     "text": [
      "                                                                                \r"
     ]
    },
    {
     "name": "stdout",
     "output_type": "stream",
     "text": [
      "2022-09-21 20:34:15 WARN  CacheManager:66 - Asked to cache already cached data.\n",
      "2022-09-21 20:34:16 WARN  CacheManager:66 - Asked to cache already cached data.\n"
     ]
    },
    {
     "name": "stderr",
     "output_type": "stream",
     "text": [
      "                                                                                3]\r"
     ]
    }
   ],
   "source": [
    "#def emulate_trials(trial_start_date,trial_enrolment_period,exposure_history,washout_period,followup_period,num_trials=2):\n",
    "trial_start_date=pd.to_datetime(\"1-Jan-2000\")\n",
    "trial_enrolment_period=pd.DateOffset(months=1)\n",
    "exposure_history=read_csv(spark.sqlContext,trial_dict['exposure'][\"path\"]).select(['patid',trial_dict['exposure'][\"eventdate\"]]).\\\n",
    "withColumn('eventdate',F.to_date(F.col(\"eventdate\"),\"yyyy-MM-dd\").alias('eventdate'))\n",
    "washout_period=pd.DateOffset(years=2) #this is the time before the trial during which being exposed will lead to the exclusion of the participant from the trial\n",
    "followup_period=pd.DateOffset(years=5)\n",
    "num_trials=60\n",
    "\n",
    "for trial_num in range(num_trials):\n",
    "\n",
    "    subtrial_enrolment_startdate=trial_start_date+trial_num*trial_enrolment_period\n",
    "    subtrial_enrolment_enddate=subtrial_enrolment_startdate+(1+trial_num)*trial_enrolment_period\n",
    "\n",
    "    subtrial_enddate=str(subtrial_enrolment_startdate+followup_period)[:10]\n",
    "\n",
    "    eligible_cohort=demographic.where((F.col(\"HFDate\")<subtrial_enrolment_startdate) & (F.col(\"end of followup\")>F.lit(subtrial_enrolment_enddate))).\\\n",
    "    select(['patid','gender','dob','HFdate','end of followup','Date of death']).\\\n",
    "    join(data_eval.select(['patid','label']),on='patid',how='inner')\\\n",
    "    .withColumn('end of followup subtrial',\n",
    "                F.when(F.col('end of followup')<F.lit(subtrial_enddate),F.col('end of followup'))\\\n",
    "                .otherwise(F.lit(subtrial_enddate)))\\\n",
    "    .drop('end of followup')\\\n",
    "    .withColumn('died',\n",
    "                F.when(F.col('Date of death')<=F.col('end of followup subtrial'),1)\\\n",
    "                .otherwise(0))\\\n",
    "    .withColumn(\"Time since HF diagnosis [yrs]\",F.months_between(F.lit(subtrial_enrolment_startdate),F.col(\"HFdate\"))/12)\\\n",
    "    .withColumn(\"Time since HF diagnosis [yrs]\",F.round(\"Time since HF diagnosis [yrs]\").cast(IntegerType()))\n",
    "\n",
    "\n",
    "    print(\"{} participants deemed eligible for trial num {}\".format(eligible_cohort.count(),trial_num))\n",
    "\n",
    "\n",
    "    #1. exclude those with exposure within \"washout_period\" before the trial startdate\n",
    "    exposure_history_trial_participants=exposure_history.join(eligible_cohort,on=\"patid\",how=\"leftsemi\")\n",
    "    patients_excluded_due_to_prior_exposure=exposure_history_trial_participants.\\\n",
    "    where((F.col(\"eventdate\")>subtrial_enrolment_startdate-washout_period) & (F.col(\"eventdate\")<subtrial_enrolment_startdate)).\\\n",
    "    select(\"patid\").distinct().toPandas()[\"patid\"].tolist()\n",
    "\n",
    "    eligible_cohort=eligible_cohort.filter(~eligible_cohort.patid.isin(patients_excluded_due_to_prior_exposure))\n",
    "    print(\"{} participants excluded due the exposure or washout period overlapping with the trial enrolment\".format(len(patients_excluded_due_to_prior_exposure)))\n",
    "\n",
    "    #2. Identify whether the patient has received the exposure during the trial enrolment period, \n",
    "    exposure_arm=exposure_history_trial_participants.\\\n",
    "    where((F.col(\"eventdate\")>subtrial_enrolment_startdate) & (F.col(\"eventdate\")<subtrial_enrolment_enddate)).\\\n",
    "    select(\"patid\").distinct().toPandas()[\"patid\"].tolist()\n",
    "\n",
    "    eligible_cohort=eligible_cohort\\\n",
    "    .withColumn('Treatment',F.when(eligible_cohort.patid.isin(exposure_arm),1).otherwise(0))\n",
    "\n",
    "    eligible_cohort=eligible_cohort\\\n",
    "    .withColumn('Age',F.round(F.months_between(F.to_date(F.lit(str(subtrial_enrolment_startdate)[:10])),F.col(\"dob\"))/F.lit(12),0)).cache()\n",
    "\n",
    "    print(\"Trial {}: {} participants, {} exposure\".format(trial_num, eligible_cohort.count(),eligible_cohort.where(F.col(\"Treatment\")==1).count()))\n",
    "\n",
    "    #3. extract the covariates \n",
    "    med_vars={'ACE':'', 'Amiloride':'', 'Anticoagulant':'', 'Antiplatelet':'', 'ARB':'', 'BB':'', 'Digoxin':'', 'Diuretic':'', 'Nitrates':'', 'Statins':''}\n",
    "    cat_vars={'Smoking status':\"Smoking status_3\",'Alcohol consumption':'Alcohol consumption_3','HF type':\"HF type_HF-UNS\",\"NYHA class\":\"NYHA class_18853\"}\n",
    "    measure_vars={'BMI':'','HR':'','Systolic BP':'','Haemoglobin':'','Potassium':''}\n",
    "    disease_vars={\"Cancer\":'',\"Mental or behavioral disorder\":'',\"Musculoskeletal or connective tissue diagnosis\":''}\n",
    "    tidy_df=extract_long_covariate(med_vars,eligible_cohort,trial_dict,pd.DateOffset(months=6),subtrial_enrolment_startdate,subtrial_enrolment_enddate,aggregate=None).\\\n",
    "    join(extract_long_covariate(cat_vars,eligible_cohort,trial_dict,pd.DateOffset(years=3),subtrial_enrolment_startdate,subtrial_enrolment_enddate,aggregate='last'),on='patid',how='outer').\\\n",
    "    join(extract_long_covariate(measure_vars,eligible_cohort,trial_dict,pd.DateOffset(years=1),subtrial_enrolment_startdate,subtrial_enrolment_enddate,aggregate=None),on='patid',how='outer').\\\n",
    "    join(extract_long_covariate(disease_vars,eligible_cohort,trial_dict,pd.DateOffset(years=3),subtrial_enrolment_startdate,subtrial_enrolment_enddate,aggregate=None),on='patid',how='outer')\n",
    "\n",
    "    covariate=read_csv(spark.sqlContext,trial_dict['first diagnoses'][\"path\"]).drop(\"Musculoskeletal or connective tissue\",\n",
    "                                                                                     \"mental or behavioral disorder\",\n",
    "                                                                                    \"malignant cancer\").join(eligible_cohort.select('patid'),on='patid',how='right').fillna(0)\n",
    "    covariate=covariate.select(['patid']+[F.when(F.col(c)<=F.lit(subtrial_enrolment_startdate),1).otherwise(0).alias(c) for c in covariate.columns if c!='patid']).cache()\n",
    "\n",
    "    tidy_df=tidy_df.join(covariate,on='patid',how='outer')\\\n",
    "    .join(eligible_cohort.select(['patid','gender','Age',\"Time since HF diagnosis [yrs]\",'Treatment','end of followup subtrial','died']),on='patid',how='left')\n",
    "\n",
    "    tidy_df=tidy_df.join(ohe_pretty(tidy_df.select(['patid','gender']),'gender').select(['patid','gender_1']).withColumnRenamed('gender_1','Gender_Male'),on='patid',how='left').drop('gender').cache()\n",
    "\n",
    "    #Save data\n",
    "    mapping = {col:col.replace(' ','_') for col in tidy_df.columns}\n",
    "    tidy_df=tidy_df.select([F.col(c).alias(mapping.get(c, c)) for c in tidy_df.columns]).withColumn(\"Trial_date\",F.lit(str(subtrial_enrolment_startdate)[:10]))\n",
    "\n",
    "    tidy_df.write.format(\"parquet\").save(\"/home/shared/mo/HFclusters/dependencies/emulated_trials_parquets/\"+\"trial\"+str(trial_num))\n"
   ]
  },
  {
   "cell_type": "code",
   "execution_count": null,
   "id": "981b8aff-1a75-4903-91aa-88daea52ddb2",
   "metadata": {},
   "outputs": [],
   "source": [
    "#emulate_trials(trial_start_date,trial_enrolment_period,exposure_history,washout_period,followup_period,num_trials=2)"
   ]
  }
 ],
 "metadata": {
  "kernelspec": {
   "display_name": "Python 3 (ipykernel)",
   "language": "python",
   "name": "python3"
  },
  "language_info": {
   "codemirror_mode": {
    "name": "ipython",
    "version": 3
   },
   "file_extension": ".py",
   "mimetype": "text/x-python",
   "name": "python",
   "nbconvert_exporter": "python",
   "pygments_lexer": "ipython3",
   "version": "3.7.13"
  }
 },
 "nbformat": 4,
 "nbformat_minor": 5
}
