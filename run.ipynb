{
 "cells": [
  {
   "cell_type": "markdown",
   "id": "9dd9e3da-2633-4cba-9932-4a9e98ed64f9",
   "metadata": {},
   "source": [
    "# To do \n",
    "1. in the method EmulatedTrials.extract_predictors instead of separate if statements for BMI, HR, and SBP, they should be exctracted in a similar way as lab measurements\n",
    "2. incorporated the trial_emulation file as a method of the EmulatedTrials class so after predictor extraction and/or setting the trial_predictors_path, one could run EmulatedTrials.emulatetrials(**args)"
   ]
  },
  {
   "cell_type": "code",
   "execution_count": 1,
   "id": "69c2029e-b3c2-4508-a419-24d433e96778",
   "metadata": {},
   "outputs": [
    {
     "name": "stderr",
     "output_type": "stream",
     "text": [
      "\n",
      "Bad key savefig.frameon in file /home/mo/anaconda3/envs/cprd/lib/python3.7/site-packages/matplotlib/mpl-data/stylelib/_classic_test.mplstyle, line 421 ('savefig.frameon : True')\n",
      "You probably need to get an updated matplotlibrc file from\n",
      "https://github.com/matplotlib/matplotlib/blob/v3.4.3/matplotlibrc.template\n",
      "or from the matplotlib source distribution\n",
      "\n",
      "Bad key verbose.level in file /home/mo/anaconda3/envs/cprd/lib/python3.7/site-packages/matplotlib/mpl-data/stylelib/_classic_test.mplstyle, line 472 ('verbose.level  : silent      # one of silent, helpful, debug, debug-annoying')\n",
      "You probably need to get an updated matplotlibrc file from\n",
      "https://github.com/matplotlib/matplotlib/blob/v3.4.3/matplotlibrc.template\n",
      "or from the matplotlib source distribution\n",
      "\n",
      "Bad key verbose.fileo in file /home/mo/anaconda3/envs/cprd/lib/python3.7/site-packages/matplotlib/mpl-data/stylelib/_classic_test.mplstyle, line 473 ('verbose.fileo  : sys.stdout  # a log filename, sys.stdout or sys.stderr')\n",
      "You probably need to get an updated matplotlibrc file from\n",
      "https://github.com/matplotlib/matplotlib/blob/v3.4.3/matplotlibrc.template\n",
      "or from the matplotlib source distribution\n",
      "In /home/mo/anaconda3/envs/cprd/lib/python3.7/site-packages/matplotlib/mpl-data/stylelib/_classic_test.mplstyle: \n",
      "The text.latex.preview rcparam was deprecated in Matplotlib 3.3 and will be removed two minor releases later.\n",
      "In /home/mo/anaconda3/envs/cprd/lib/python3.7/site-packages/matplotlib/mpl-data/stylelib/_classic_test.mplstyle: \n",
      "The mathtext.fallback_to_cm rcparam was deprecated in Matplotlib 3.3 and will be removed two minor releases later.\n",
      "In /home/mo/anaconda3/envs/cprd/lib/python3.7/site-packages/matplotlib/mpl-data/stylelib/_classic_test.mplstyle: Support for setting the 'mathtext.fallback_to_cm' rcParam is deprecated since 3.3 and will be removed two minor releases later; use 'mathtext.fallback : 'cm' instead.\n",
      "In /home/mo/anaconda3/envs/cprd/lib/python3.7/site-packages/matplotlib/mpl-data/stylelib/_classic_test.mplstyle: \n",
      "The validate_bool_maybe_none function was deprecated in Matplotlib 3.3 and will be removed two minor releases later.\n",
      "In /home/mo/anaconda3/envs/cprd/lib/python3.7/site-packages/matplotlib/mpl-data/stylelib/_classic_test.mplstyle: \n",
      "The savefig.jpeg_quality rcparam was deprecated in Matplotlib 3.3 and will be removed two minor releases later.\n",
      "In /home/mo/anaconda3/envs/cprd/lib/python3.7/site-packages/matplotlib/mpl-data/stylelib/_classic_test.mplstyle: \n",
      "The keymap.all_axes rcparam was deprecated in Matplotlib 3.3 and will be removed two minor releases later.\n",
      "In /home/mo/anaconda3/envs/cprd/lib/python3.7/site-packages/matplotlib/mpl-data/stylelib/_classic_test.mplstyle: \n",
      "The animation.avconv_path rcparam was deprecated in Matplotlib 3.3 and will be removed two minor releases later.\n",
      "In /home/mo/anaconda3/envs/cprd/lib/python3.7/site-packages/matplotlib/mpl-data/stylelib/_classic_test.mplstyle: \n",
      "The animation.avconv_args rcparam was deprecated in Matplotlib 3.3 and will be removed two minor releases later.\n"
     ]
    }
   ],
   "source": [
    "import os\n",
    "import itertools\n",
    "import pandas as pd\n",
    "import numpy as np\n",
    "import sys \n",
    "import yaml\n",
    "trial_config=yaml.load(open('./configs/trial_config.yaml'), Loader=yaml.Loader)\n",
    "from utils_et.utils_et import make_dict_from_table,list_contains\n",
    "sys.path.insert(0, trial_config['path_params']['cprd_package_paths'])\n",
    "from emutrials import extract_lab_measurements,EmulatedTrial\n",
    "\n",
    "\n",
    "from utils_et.yaml_act import yaml_load\n",
    "from utils.arg_parse import arg_paser\n",
    "from CPRD.config.spark import spark_init, read_parquet, read_txt, read_csv\n",
    "from pyspark.sql.types import StructType,StructField, StringType, DateType\n",
    "from CPRD.functions import tables, merge, cohort_select,risk_prediction, modalities, MedicalDictionary, risk_prediction, predictor_extractor\n",
    "from pyspark.sql import Window\n",
    "import matplotlib.pyplot as plt\n",
    "import seaborn as sns\n",
    "from lifelines import KaplanMeierFitter\n",
    "import warnings\n",
    "import copy\n",
    "\n",
    "warnings.filterwarnings(\"ignore\")\n",
    "\n",
    "class dotdict(dict):\n",
    "    \"\"\"dot.notation access to dictionary attributes\"\"\"\n",
    "    __getattr__ = dict.get\n",
    "    __setattr__ = dict.__setitem__\n",
    "    __delattr__ = dict.__delitem__\n",
    "    \n",
    "os.environ[\"JAVA_HOME\"] = trial_config['path_params']['java_home']"
   ]
  },
  {
   "cell_type": "markdown",
   "id": "4677a16f-9c20-4d33-b67b-52b1e6c42532",
   "metadata": {},
   "source": [
    "# Spark Config"
   ]
  },
  {
   "cell_type": "code",
   "execution_count": 2,
   "id": "e76004fe-5651-4306-a1ee-c1d3cd6547f4",
   "metadata": {},
   "outputs": [
    {
     "name": "stdout",
     "output_type": "stream",
     "text": [
      "2023-02-17 10:04:57 WARN  Utils:66 - Your hostname, deepmedicine resolves to a loopback address: 127.0.1.1; using 163.1.176.44 instead (on interface enp4s0)\n",
      "2023-02-17 10:04:57 WARN  Utils:66 - Set SPARK_LOCAL_IP if you need to bind to another address\n",
      "2023-02-17 10:04:58 WARN  NativeCodeLoader:62 - Unable to load native-hadoop library for your platform... using builtin-java classes where applicable\n"
     ]
    },
    {
     "name": "stderr",
     "output_type": "stream",
     "text": [
      "Setting default log level to \"WARN\".\n",
      "To adjust logging level use sc.setLogLevel(newLevel). For SparkR, use setLogLevel(newLevel).\n"
     ]
    },
    {
     "name": "stdout",
     "output_type": "stream",
     "text": [
      "2023-02-17 10:04:59 WARN  SparkConf:66 - Note that spark.local.dir will be overridden by the value set by the cluster manager (via SPARK_LOCAL_DIRS in mesos/standalone/kubernetes and LOCAL_DIRS in YARN).\n"
     ]
    }
   ],
   "source": [
    "args = dotdict({'params': '/home/shared/mo/HFclusters/dependencies/CPRD/config/config.yaml'}) #path to spark CPRD config file\n",
    "params = yaml_load(args.params)\n",
    "params['pyspark']={'temp':'/home/shared/mo/HFclusters/dependencies/sparkDeletable',\n",
    "                   'pyspark_env':'/home/mo/anaconda3/envs/cprd/bin/python3.7'}\n",
    "spark_params = params['pyspark']\n",
    "spark = spark_init(spark_params)\n",
    "file = params['file_path']"
   ]
  },
  {
   "cell_type": "markdown",
   "id": "df1512d8-100d-475e-9b43-ffd4bb65e603",
   "metadata": {},
   "source": [
    "# Load cohort data"
   ]
  },
  {
   "cell_type": "code",
   "execution_count": 3,
   "id": "65fca646-e22e-449c-95e4-b01dcd036d07",
   "metadata": {},
   "outputs": [],
   "source": [
    "#cohort selection was previously carried out\n",
    "data_eval =read_parquet(spark.sqlContext,'/home/shared/yikuan/Mo/analysis/CPC/result.parquet').select(['patid', 'event', 'time', 'label'])\n",
    "demographic = read_parquet(spark.sqlContext,'/home/shared/yikuan/Mo/demographics.parquet/')"
   ]
  },
  {
   "cell_type": "code",
   "execution_count": 4,
   "id": "2d2c7ddf-13e4-4314-90bf-20edda5125b5",
   "metadata": {},
   "outputs": [],
   "source": [
    "trial_config=yaml_load(\"./configs/trial_config.yaml\")"
   ]
  },
  {
   "cell_type": "code",
   "execution_count": 5,
   "id": "ee5ff6ea-d773-4fa8-9dd8-d06eb59ac38c",
   "metadata": {},
   "outputs": [],
   "source": [
    "emulatedtrials=EmulatedTrial(trial_config,demographic,spark)\n",
    "#emulatedtrials.extract_predictors()"
   ]
  },
  {
   "cell_type": "code",
   "execution_count": 12,
   "id": "816ef8c8-fbae-4b8b-a96f-d46cac84e66c",
   "metadata": {},
   "outputs": [
    {
     "name": "stdout",
     "output_type": "stream",
     "text": [
      "predictors_paths_dict attribute is now set. Check before running emulatedtrials.\n"
     ]
    }
   ],
   "source": [
    "#emulatedtrials.set_trial_predictors_path(\"/home/shared/mo/HFclusters/cohort_parquets\")\n",
    "#emulatedtrials.generate_path2predictors() #use self.set_trial_predictors_path to change this and conduct emulated trials on previously extracted vars"
   ]
  }
 ],
 "metadata": {
  "kernelspec": {
   "display_name": "Python 3 (ipykernel)",
   "language": "python",
   "name": "python3"
  },
  "language_info": {
   "codemirror_mode": {
    "name": "ipython",
    "version": 3
   },
   "file_extension": ".py",
   "mimetype": "text/x-python",
   "name": "python",
   "nbconvert_exporter": "python",
   "pygments_lexer": "ipython3",
   "version": "3.7.13"
  }
 },
 "nbformat": 4,
 "nbformat_minor": 5
}
