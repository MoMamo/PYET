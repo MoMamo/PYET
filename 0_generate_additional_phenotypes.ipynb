{
 "cells": [
  {
   "cell_type": "code",
   "execution_count": 2,
   "id": "6dd0d61d-1f22-498e-bccb-317ead8e235b",
   "metadata": {},
   "outputs": [],
   "source": [
    "import itertools\n",
    "import yaml\n",
    "import sys\n",
    "import os\n",
    "from utils_et.utils import make_dict_from_table\n",
    "trial_config=yaml.load(open('./configs/trial_config.yaml'), Loader=yaml.Loader)\n",
    "sys.path.insert(0, trial_config['path_params']['cprd_package_paths'])\n",
    "cprd_config=yaml.load(open(trial_config['path_params']['cprd_package_paths']+'/config/config.yaml'), Loader=yaml.Loader)\n",
    "from CPRD.functions import MedicalDictionary,tables,modalities\n",
    "from CPRD.config.spark import spark_init,read_txt,read_parquet\n",
    "import pyspark.sql.functions as F\n",
    "import pandas as pd\n",
    "import logging\n",
    "from itertools import chain\n",
    "from datetime import date\n",
    "\n",
    "\n",
    "\n",
    "os.environ[\"JAVA_HOME\"] = trial_config['path_params']['java_home']"
   ]
  },
  {
   "cell_type": "code",
   "execution_count": 403,
   "id": "0372b242-c7cf-4373-a1e7-9a033fa19520",
   "metadata": {},
   "outputs": [
    {
     "name": "stdout",
     "output_type": "stream",
     "text": [
      "[TerminalIPythonApp] WARNING | Subcommand `ipython nbconvert` is deprecated and will be removed in future versions.\n",
      "[TerminalIPythonApp] WARNING | You likely want to use `jupyter nbconvert` in the future\n",
      "[NbConvertApp] Converting notebook utils_et/utils.ipynb to python\n",
      "[NbConvertApp] Writing 294 bytes to utils_et/utils.py\n"
     ]
    }
   ],
   "source": [
    "#!ipython nbconvert utils_et/utils.ipynb --to python"
   ]
  },
  {
   "cell_type": "code",
   "execution_count": 404,
   "id": "59c7ba14-368c-4d5f-aceb-3a3769e6044c",
   "metadata": {},
   "outputs": [
    {
     "ename": "ValueError",
     "evalue": "Cannot run multiple SparkContexts at once; existing SparkContext(app=ehr, master=local[*]) created by __init__ at /home/shared/mo/HFclusters/dependencies/CPRD/CPRD/config/spark.py:34 ",
     "output_type": "error",
     "traceback": [
      "\u001b[0;31m---------------------------------------------------------------------------\u001b[0m",
      "\u001b[0;31mValueError\u001b[0m                                Traceback (most recent call last)",
      "\u001b[0;32m/tmp/ipykernel_56010/877228619.py\u001b[0m in \u001b[0;36m<module>\u001b[0;34m\u001b[0m\n\u001b[0;32m----> 1\u001b[0;31m \u001b[0mspark\u001b[0m \u001b[0;34m=\u001b[0m \u001b[0mspark_init\u001b[0m\u001b[0;34m(\u001b[0m\u001b[0mtrial_config\u001b[0m\u001b[0;34m[\u001b[0m\u001b[0;34m'pyspark_params'\u001b[0m\u001b[0;34m]\u001b[0m\u001b[0;34m)\u001b[0m\u001b[0;34m\u001b[0m\u001b[0;34m\u001b[0m\u001b[0m\n\u001b[0m",
      "\u001b[0;32m/home/shared/mo/HFclusters/dependencies/CPRD/CPRD/config/spark.py\u001b[0m in \u001b[0;36m__init__\u001b[0;34m(self, params, name)\u001b[0m\n\u001b[1;32m      8\u001b[0m         \u001b[0mself\u001b[0m\u001b[0;34m.\u001b[0m\u001b[0m_setup_spark\u001b[0m\u001b[0;34m(\u001b[0m\u001b[0;34m**\u001b[0m\u001b[0mparams\u001b[0m\u001b[0;34m)\u001b[0m\u001b[0;34m\u001b[0m\u001b[0;34m\u001b[0m\u001b[0m\n\u001b[1;32m      9\u001b[0m \u001b[0;34m\u001b[0m\u001b[0m\n\u001b[0;32m---> 10\u001b[0;31m         \u001b[0mself\u001b[0m\u001b[0;34m.\u001b[0m\u001b[0msc\u001b[0m\u001b[0;34m,\u001b[0m \u001b[0mself\u001b[0m\u001b[0;34m.\u001b[0m\u001b[0msqlContext\u001b[0m \u001b[0;34m=\u001b[0m \u001b[0mself\u001b[0m\u001b[0;34m.\u001b[0m\u001b[0m_init_spark\u001b[0m\u001b[0;34m(\u001b[0m\u001b[0mname\u001b[0m\u001b[0;34m=\u001b[0m\u001b[0mname\u001b[0m\u001b[0;34m)\u001b[0m\u001b[0;34m\u001b[0m\u001b[0;34m\u001b[0m\u001b[0m\n\u001b[0m\u001b[1;32m     11\u001b[0m \u001b[0;34m\u001b[0m\u001b[0m\n\u001b[1;32m     12\u001b[0m     \u001b[0;32mdef\u001b[0m \u001b[0m_setup_spark\u001b[0m\u001b[0;34m(\u001b[0m\u001b[0mself\u001b[0m\u001b[0;34m,\u001b[0m \u001b[0mpyspark_env\u001b[0m\u001b[0;34m,\u001b[0m \u001b[0mtemp\u001b[0m\u001b[0;34m,\u001b[0m \u001b[0mmemory\u001b[0m\u001b[0;34m=\u001b[0m\u001b[0;34m'300g'\u001b[0m\u001b[0;34m,\u001b[0m \u001b[0mexcutors\u001b[0m\u001b[0;34m=\u001b[0m\u001b[0;34m'4'\u001b[0m\u001b[0;34m,\u001b[0m \u001b[0mexe_mem\u001b[0m\u001b[0;34m=\u001b[0m\u001b[0;34m'50g'\u001b[0m\u001b[0;34m,\u001b[0m \u001b[0mresult_size\u001b[0m\u001b[0;34m=\u001b[0m\u001b[0;34m'80g'\u001b[0m\u001b[0;34m,\u001b[0m \u001b[0moffHeap\u001b[0m\u001b[0;34m=\u001b[0m\u001b[0;34m'16g'\u001b[0m\u001b[0;34m)\u001b[0m\u001b[0;34m:\u001b[0m\u001b[0;34m\u001b[0m\u001b[0;34m\u001b[0m\u001b[0m\n",
      "\u001b[0;32m/home/shared/mo/HFclusters/dependencies/CPRD/CPRD/config/spark.py\u001b[0m in \u001b[0;36m_init_spark\u001b[0;34m(self, name)\u001b[0m\n\u001b[1;32m     32\u001b[0m \u001b[0;34m\u001b[0m\u001b[0m\n\u001b[1;32m     33\u001b[0m     \u001b[0;32mdef\u001b[0m \u001b[0m_init_spark\u001b[0m\u001b[0;34m(\u001b[0m\u001b[0mself\u001b[0m\u001b[0;34m,\u001b[0m \u001b[0mname\u001b[0m\u001b[0;34m=\u001b[0m\u001b[0;34m'ehr'\u001b[0m\u001b[0;34m)\u001b[0m\u001b[0;34m:\u001b[0m\u001b[0;34m\u001b[0m\u001b[0;34m\u001b[0m\u001b[0m\n\u001b[0;32m---> 34\u001b[0;31m         \u001b[0msc\u001b[0m \u001b[0;34m=\u001b[0m \u001b[0mpyspark\u001b[0m\u001b[0;34m.\u001b[0m\u001b[0mSparkContext\u001b[0m\u001b[0;34m(\u001b[0m\u001b[0mappName\u001b[0m\u001b[0;34m=\u001b[0m\u001b[0mname\u001b[0m\u001b[0;34m)\u001b[0m\u001b[0;34m\u001b[0m\u001b[0;34m\u001b[0m\u001b[0m\n\u001b[0m\u001b[1;32m     35\u001b[0m         \u001b[0msqlContext\u001b[0m \u001b[0;34m=\u001b[0m \u001b[0mSQLContext\u001b[0m\u001b[0;34m(\u001b[0m\u001b[0msc\u001b[0m\u001b[0;34m)\u001b[0m\u001b[0;34m\u001b[0m\u001b[0;34m\u001b[0m\u001b[0m\n\u001b[1;32m     36\u001b[0m         \u001b[0msqlContext\u001b[0m\u001b[0;34m.\u001b[0m\u001b[0msql\u001b[0m\u001b[0;34m(\u001b[0m\u001b[0;34m\"SET spark.sql.parquet.binaryAsString=true\"\u001b[0m\u001b[0;34m)\u001b[0m\u001b[0;34m\u001b[0m\u001b[0;34m\u001b[0m\u001b[0m\n",
      "\u001b[0;32m~/anaconda3/envs/cprd/lib/python3.7/site-packages/pyspark/context.py\u001b[0m in \u001b[0;36m__init__\u001b[0;34m(self, master, appName, sparkHome, pyFiles, environment, batchSize, serializer, conf, gateway, jsc, profiler_cls)\u001b[0m\n\u001b[1;32m    113\u001b[0m         \"\"\"\n\u001b[1;32m    114\u001b[0m         \u001b[0mself\u001b[0m\u001b[0;34m.\u001b[0m\u001b[0m_callsite\u001b[0m \u001b[0;34m=\u001b[0m \u001b[0mfirst_spark_call\u001b[0m\u001b[0;34m(\u001b[0m\u001b[0;34m)\u001b[0m \u001b[0;32mor\u001b[0m \u001b[0mCallSite\u001b[0m\u001b[0;34m(\u001b[0m\u001b[0;32mNone\u001b[0m\u001b[0;34m,\u001b[0m \u001b[0;32mNone\u001b[0m\u001b[0;34m,\u001b[0m \u001b[0;32mNone\u001b[0m\u001b[0;34m)\u001b[0m\u001b[0;34m\u001b[0m\u001b[0;34m\u001b[0m\u001b[0m\n\u001b[0;32m--> 115\u001b[0;31m         \u001b[0mSparkContext\u001b[0m\u001b[0;34m.\u001b[0m\u001b[0m_ensure_initialized\u001b[0m\u001b[0;34m(\u001b[0m\u001b[0mself\u001b[0m\u001b[0;34m,\u001b[0m \u001b[0mgateway\u001b[0m\u001b[0;34m=\u001b[0m\u001b[0mgateway\u001b[0m\u001b[0;34m,\u001b[0m \u001b[0mconf\u001b[0m\u001b[0;34m=\u001b[0m\u001b[0mconf\u001b[0m\u001b[0;34m)\u001b[0m\u001b[0;34m\u001b[0m\u001b[0;34m\u001b[0m\u001b[0m\n\u001b[0m\u001b[1;32m    116\u001b[0m         \u001b[0;32mtry\u001b[0m\u001b[0;34m:\u001b[0m\u001b[0;34m\u001b[0m\u001b[0;34m\u001b[0m\u001b[0m\n\u001b[1;32m    117\u001b[0m             self._do_init(master, appName, sparkHome, pyFiles, environment, batchSize, serializer,\n",
      "\u001b[0;32m~/anaconda3/envs/cprd/lib/python3.7/site-packages/pyspark/context.py\u001b[0m in \u001b[0;36m_ensure_initialized\u001b[0;34m(cls, instance, gateway, conf)\u001b[0m\n\u001b[1;32m    312\u001b[0m                         \u001b[0;34m\" created by %s at %s:%s \"\u001b[0m\u001b[0;34m\u001b[0m\u001b[0;34m\u001b[0m\u001b[0m\n\u001b[1;32m    313\u001b[0m                         % (currentAppName, currentMaster,\n\u001b[0;32m--> 314\u001b[0;31m                             callsite.function, callsite.file, callsite.linenum))\n\u001b[0m\u001b[1;32m    315\u001b[0m                 \u001b[0;32melse\u001b[0m\u001b[0;34m:\u001b[0m\u001b[0;34m\u001b[0m\u001b[0;34m\u001b[0m\u001b[0m\n\u001b[1;32m    316\u001b[0m                     \u001b[0mSparkContext\u001b[0m\u001b[0;34m.\u001b[0m\u001b[0m_active_spark_context\u001b[0m \u001b[0;34m=\u001b[0m \u001b[0minstance\u001b[0m\u001b[0;34m\u001b[0m\u001b[0;34m\u001b[0m\u001b[0m\n",
      "\u001b[0;31mValueError\u001b[0m: Cannot run multiple SparkContexts at once; existing SparkContext(app=ehr, master=local[*]) created by __init__ at /home/shared/mo/HFclusters/dependencies/CPRD/CPRD/config/spark.py:34 "
     ]
    }
   ],
   "source": [
    "spark = spark_init(trial_config['pyspark_params'])"
   ]
  },
  {
   "cell_type": "code",
   "execution_count": 3,
   "id": "255ab738-b011-449e-8039-2c2cd9dc3acc",
   "metadata": {},
   "outputs": [
    {
     "name": "stderr",
     "output_type": "stream",
     "text": [
      "                                                                                \r"
     ]
    }
   ],
   "source": [
    "\n",
    "md=MedicalDictionary.MedicalDictionaryBase(cprd_config[\"file_path\"],spark)\n",
    "\n",
    "med2read = tables.retrieve_med2read_map(dir=cprd_config[\"file_path\"]['med2read'], spark=spark)\n",
    "read2icd = tables.retrieve_read2icd_map(dir=cprd_config[\"file_path\"]['read2icd'], spark=spark)\n",
    "\n",
    "#takes a few minutes\n",
    "merged_codes=med2read.join(read2icd,med2read.readcode.contains(read2icd.read),how='left').filter(F.col('ICD').isNotNull()).cache()\n",
    "\n",
    "#construct the icd2read dictionary\n",
    "#this generates the higher level read codes so duplicates may exist. but the icd2medcode should be used for all intents and purposes. icd2read is just for sanity check or unless I only have the readcodes. \n",
    "icd2read= make_dict_from_table(merged_codes,key='ICD',value='read')\n",
    "icd2medcode= make_dict_from_table(merged_codes,key='ICD',value='medcode')"
   ]
  },
  {
   "cell_type": "code",
   "execution_count": 4,
   "id": "cedf4561-3f4e-4167-be6f-0cd9af566513",
   "metadata": {},
   "outputs": [],
   "source": [
    "#additional user defined phenotypes and automated phenotypes\n",
    "\n",
    "# First check if the codes exist in the dictionary: [icdcode for icdcode in icd2medcode.keys() if icdcode.startswith('R58')]\n",
    "\n",
    "icd10codes_pacemaker=['Z950']\n",
    "medcodes_pacemaker=list(itertools.chain.from_iterable([icd2medcode[icdcode] for icdcode in icd10codes_pacemaker]))\n",
    "\n",
    "icd10codes_valve=['Z952','Z953','Z954']\n",
    "medcodes_valve=list(itertools.chain.from_iterable([icd2medcode[icdcode] for icdcode in icd10codes_valve]))\n",
    "\n",
    "icd10codes_aorticstenosis=['I350','I352']\n",
    "medcodes_aorticstenosis=list(itertools.chain.from_iterable([icd2medcode[icdcode] for icdcode in icd10codes_aorticstenosis]))\n",
    "\n",
    "icd10codes_corArtBypGraf=['Z951','Z955']\n",
    "medcodes_corArtBypGraf=list(itertools.chain.from_iterable([icd2medcode[icdcode] for icdcode in icd10codes_corArtBypGraf]))\n",
    "\n",
    "icd10codes_anySevereBleeding='S064, S065, S066, I850, I983A, K226, K250, K252, K254, K256, K260, K262, K264, K266, K270, K272, K274, K276,\\\n",
    " K280, K284, K290, K625, K661, K920, K921, K922, H431, N028, N020, N027, N023, N021, N029, N022, N025, N026, R58, T810, D62'.split(', ')+\\\n",
    "['R048', 'R042', 'R040', 'R041']\n",
    "medcodes_anySevereBleeding=list(itertools.chain.from_iterable([icd2medcode[icdcode] for icdcode in icd10codes_anySevereBleeding]))\n",
    "\n",
    "icd10codes_mentalOrBehavioural=[icdcode for icdcode in icd2medcode.keys() if icdcode.startswith('F')]\n",
    "medcodes_mentalOrBehavioural=list(itertools.chain.from_iterable([icd2medcode[icdcode] for icdcode in icd10codes_mentalOrBehavioural]))\n",
    "\n",
    "icd10codes_dialysis=['Z491','Z492']\n",
    "medcodes_dialysis=list(itertools.chain.from_iterable([icd2medcode[icdcode] for icdcode in icd10codes_dialysis]))\n",
    "\n",
    "icd10codes_lungdisease=[icdcode for icdcode in icd2medcode.keys() if \\\n",
    "                        (icdcode.startswith('J4') | icdcode.startswith('J6') | icdcode.startswith('J7') \\\n",
    "                         | icdcode.startswith('J8') | icdcode.startswith('J9'))]\n",
    "medcodes_lungdisease=list(itertools.chain.from_iterable([icd2medcode[icdcode] for icdcode in icd10codes_lungdisease]))\n",
    "\n",
    "icd10codes_alcoholism='E244, G312, G621, I426, K292, O354, P043, Q860, Z502, Z714'.split(', ')+ \\\n",
    "['F100','F108','F105','F107','F101','F103','F106','F104','F102','F109']+\\\n",
    "['K701', 'K709', 'K704', 'K703', 'K709D', 'K700', 'K702']+\\\n",
    "['T510', 'T512', 'T513', 'T518', 'T519', 'T511']+\\\n",
    "['Y903','Y902','Y904','Y905','Y909','Y900','Y908','Y901','Y907','Y906']+\\\n",
    "['Y919', 'Y910', 'Y912', 'Y913', 'Y911']\n",
    "medcodes_alcoholism=list(itertools.chain.from_iterable([icd2medcode[icdcode] for icdcode in icd10codes_alcoholism]))\n",
    "\n",
    "icd10codes_muscConTissDisorder=[icdcode for icdcode in icd2medcode.keys() if icdcode.startswith('M')]\n",
    "medcodes_muscConTissDisorder=list(itertools.chain.from_iterable([icd2medcode[icdcode] for icdcode in icd10codes_muscConTissDisorder]))\n",
    "\n",
    "diagnoses_dict1={'pacemaker':{'source':'self defined',\n",
    "                             'phenotypes':{'Medcode':medcodes_pacemaker,\n",
    "                                           'ICD':icd10codes_pacemaker,\n",
    "                                           'OPCS':['K600','K601','K602','K603','K606','K611','K612']}},\n",
    "                'heart valve surgery':{'source':'self defined',\n",
    "                                           'phenotypes':{'Medcode':medcodes_valve,\n",
    "                                           'ICD':icd10codes_valve,\n",
    "                                           'OPCS':['K180', 'K185', 'K254', 'K258', 'K259', 'K260', 'K261', 'K270', 'K280', 'K350', 'K358']}},\n",
    "                'aortic stenosis':{'source':'self defined',\n",
    "                                           'phenotypes':{'Medcode':medcodes_aorticstenosis,#not granular enough as they indicate all valve replacements\n",
    "                                           'ICD':icd10codes_aorticstenosis,#same as above\n",
    "                                           'OPCS':[]}},\n",
    "                'percutaneous coronary intervention':{'source':'self defined',\n",
    "                                           'phenotypes':{'Medcode':[],#not granular enough as they indicate all valve replacements\n",
    "                                           'ICD':[],#same as above\n",
    "                                           'OPCS':['K490','K491','K492']}},\n",
    "                'coronary artery bypass graft':{'source':'self defined',\n",
    "                                           'phenotypes':{'Medcode':medcodes_corArtBypGraf,#not granular enough as they indicate all valve replacements\n",
    "                                           'ICD':icd10codes_corArtBypGraf,#same as above\n",
    "                                           'OPCS':['K410','K418','K441','K460','K461']}},\n",
    "                'any severe bleed except intracranial':{'source':'self defined',\n",
    "                                           'phenotypes':{'Medcode':medcodes_anySevereBleeding,#not granular enough as they indicate all valve replacements\n",
    "                                           'ICD':icd10codes_anySevereBleeding,#same as above\n",
    "                                           'OPCS':[]}},\n",
    "                'mental or behavioral disorder':{'source':'self defined',\n",
    "                                           'phenotypes':{'Medcode':medcodes_mentalOrBehavioural,#not granular enough as they indicate all valve replacements\n",
    "                                           'ICD':icd10codes_mentalOrBehavioural,#same as above\n",
    "                                           'OPCS':[]}},\n",
    "                'dialysis':{'source':'self defined',\n",
    "                                           'phenotypes':{'Medcode':medcodes_dialysis,\n",
    "                                           'ICD':icd10codes_dialysis,\n",
    "                                           'OPCS':['C671','L742','L911']}},\n",
    "                'lung disease':{'source':'self defined',\n",
    "                                           'phenotypes':{'Medcode':medcodes_lungdisease,\n",
    "                                           'ICD':icd10codes_lungdisease,\n",
    "                                           'OPCS':[]}},\n",
    "                'alcoholism':{'source':'self defined',\n",
    "                                           'phenotypes':{'Medcode':medcodes_alcoholism,\n",
    "                                           'ICD':icd10codes_alcoholism,\n",
    "                                           'OPCS':[]}},\n",
    "                'Musculoskeletal or connective tissue':{'source':'self defined',\n",
    "                                           'phenotypes':{'Medcode':medcodes_muscConTissDisorder,\n",
    "                                           'ICD':icd10codes_muscConTissDisorder,\n",
    "                                           'OPCS':[]}}\n",
    "               }\n",
    "\n",
    "\n",
    "cancer_phenotypes=[ent for ent in md.diagDict.keys() if (('malignancy' in ent) | ('malignant' in ent))]\n",
    "\n",
    "diagnoses_dict2={'hypertension':{'source':'existing phenotypes','phenotypes':['hypertension']},\n",
    "               'diabetes':{'source':'existing phenotypes','phenotypes':['diabetes']},\n",
    "                'IBD':{'source':'existing phenotypes','phenotypes':[\"ulcerative colitis\",\"crohn's disease\"]},\n",
    "                'myocardial infarction':{'source':'existing phenotypes','phenotypes':['myocardial infarction']},\n",
    "                'peripheral arterial disease':{'source':'existing phenotypes','phenotypes':['peripheral arterial disease']},\n",
    "                'atrial fibrillation':{'source':'existing phenotypes','phenotypes':['atrial fibrillation']},\n",
    "                'ischaemic stroke or transient attack':{'source':'existing phenotypes','phenotypes':['ischaemic stroke','transient ischaemic attack']},\n",
    "                'malignant cancer':{'source':'existing phenotypes','phenotypes':cancer_phenotypes},\n",
    "                'gout':{'source':'existing phenotypes','phenotypes':['gout']}}\n",
    "diagnoses_dict={**diagnoses_dict1,**diagnoses_dict2}"
   ]
  },
  {
   "cell_type": "code",
   "execution_count": 16,
   "id": "c2d099e3-dea8-47fb-8a36-aa62babd6fdf",
   "metadata": {},
   "outputs": [],
   "source": [
    "with open('./configs/additional_phenotypes.yaml', 'w') as file:\n",
    "    yaml.dump(diagnoses_dict, file)"
   ]
  },
  {
   "cell_type": "code",
   "execution_count": 11,
   "id": "3414558f-aa3a-4937-8456-5324807784dd",
   "metadata": {},
   "outputs": [],
   "source": [
    "#diagnoses_dict2=yaml.load(open('./configs/additional_phenotypes.yaml'), Loader=yaml.Loader)"
   ]
  },
  {
   "cell_type": "markdown",
   "id": "a037be23-5c39-4e8c-b119-2bfe980bc2e0",
   "metadata": {},
   "source": [
    "# Generate Medication Phenotypes"
   ]
  },
  {
   "cell_type": "code",
   "execution_count": 25,
   "id": "cd57c6fe-81f7-415b-811c-3b128cd76962",
   "metadata": {},
   "outputs": [],
   "source": [
    "prod =pd.read_table(cprd_config['file_path']['prod2bnf'], encoding='latin-1')[['prodcode', 'productname','drugsubstance','strength', 'bnfcode', 'bnfchapter']]\n",
    "prod['bnf'] = prod.bnfcode.apply(lambda x: x[0:7])"
   ]
  },
  {
   "cell_type": "code",
   "execution_count": 26,
   "id": "17fb56bb-760d-4226-8e86-4e48f1d27c86",
   "metadata": {},
   "outputs": [],
   "source": [
    "med_phenotypes=dict()"
   ]
  },
  {
   "cell_type": "code",
   "execution_count": 136,
   "id": "6ab46317-896d-4ddc-aa5f-5e3ff1fe0475",
   "metadata": {},
   "outputs": [],
   "source": [
    "all_previous_codes=[]\n",
    "for med in [\"Aldosterone Antagonist\",\"Aldosterone Antagonist\",\"ARB\",\"ACE\",\"BB\",\"Digoxin\",\"Other Diuretics\",\"Antiplatelet\",\"Anticoagulants\",\"Statin\"]:#\"Aldosterone Antagonist\",\"ARB\",\"ACE\",\"BB\",\"Digoxin\"     \n",
    "    if med==\"Aldosterone Antagonist\":\n",
    "        #inspra is an epleronone, Aldactone and Diatensec are a spironalactone prod['bnf']=='0202030'\n",
    "        prod_df=prod[(prod[\"bnfchapter\"].str.contains(\"Aldosterone Antagonist\")) & (prod[\"productname\"].str.contains(\"Eplerenone\")\\\n",
    "                                                  |  prod[\"productname\"].str.contains(\"Spir\")\\\n",
    "                                                  |prod[\"productname\"].str.contains(\"Aldactone\")\\\n",
    "                                                  | prod[\"productname\"].str.contains(\"Inspra\")\\\n",
    "                                                  | prod[\"productname\"].str.contains(\"Diatensec\")\n",
    "                                 )]\n",
    "    elif med==\"ARB\":\n",
    "        prod_df=prod[(prod[\"bnfchapter\"]==\"Angiotensin-ii Receptor Antagonists\") | \\\n",
    "          (prod[\"bnfchapter\"]==\"Angiotensin-ii Receptor Antagonists With Diuretic\") |\\\n",
    "          (prod[\"bnfchapter\"]==\"Angiotensin-ii Receptor Antagonists/Calcium-channel Blockers\") |\\\n",
    "          (prod[\"bnfchapter\"]==\"Thiazides And Related Diuretics/Angiotensin-ii Receptor Antagonists With Diuretic\") |\\\n",
    "          (prod[\"bnfchapter\"]=='Thiazides And Related Diuretics/Angiotensin-ii Receptor Antagonists')]\n",
    "    elif med==\"ACE\":\n",
    "        prod_df=prod[(prod[\"bnfchapter\"]==\"Angiotensin-converting Enzyme Inhibitors\") |\\\n",
    "          (prod[\"bnfchapter\"]==\"Thiazides And Related Diuretics/Angiotensin-converting Enzyme Inhibitors\") |\\\n",
    "          (prod[\"bnfchapter\"]=='Thiazides And Related Diuretics/Drugs Affecting The Renin-angiotensin System/Angiotensin-converting Enzyme Inhibitors') |\\\n",
    "          (prod[\"bnfchapter\"]==\"Angiotensin-converting Enzyme Inhibitors/Calcium-channel Blockers\")      \n",
    "         ]\n",
    "    elif med==\"BB\":\n",
    "        prod_df=prod[(prod['bnfchapter'].str.contains('Beta-adrenoceptor Blocking Drugs'))]\n",
    "    elif med=='Digoxin':\n",
    "        prod_df=prod[(prod[\"productname\"].notna())&(prod[\"productname\"].str.contains(\"Digoxin\"))]\n",
    "    elif med=='Other Diuretics':\n",
    "        prod_df=prod[(prod[\"bnfchapter\"].str.contains(\"Diuretic\"))]\n",
    "    elif med=='Antiplatelet':\n",
    "        prod_df=prod[(prod[\"bnfchapter\"].str.contains(\"Antiplatelet\"))]\n",
    "    elif med=='Anticoagulants':\n",
    "        prod_df=prod[(prod[\"bnfchapter\"].str.contains(\"Oral Anticoagulants\"))]\n",
    "    elif med==\"Statin\":\n",
    "        prod_df=prod[(prod[\"bnfchapter\"].str.contains(\"Statin\"))]\n",
    "    \n",
    "    \n",
    "    prodcode_not_previously_captured=set(prod_df[\"prodcode\"].values)-set(all_previous_codes)\n",
    "    prod_df=prod_df[prod_df[\"prodcode\"].isin(prodcode_not_previously_captured)]\n",
    "    med_phenotypes[med]={'bnf_code_list':prod_df[\"bnfcode\"].unique().tolist(),\n",
    "                         'prodcode':prod_df[\"prodcode\"].unique().tolist()}\n",
    "    all_previous_codes+=prod_df[\"prodcode\"].unique().tolist()"
   ]
  },
  {
   "cell_type": "code",
   "execution_count": 139,
   "id": "68bcf965-3b74-4e29-8a3e-a0ecac24ff7e",
   "metadata": {},
   "outputs": [],
   "source": [
    "with open('./configs/drug_phenotypes.yaml', 'w') as file:\n",
    "    yaml.dump(med_phenotypes, file)"
   ]
  },
  {
   "cell_type": "code",
   "execution_count": null,
   "id": "5d1799ca-8fe0-44e0-9331-2388946ae2c5",
   "metadata": {},
   "outputs": [],
   "source": []
  }
 ],
 "metadata": {
  "kernelspec": {
   "display_name": "Python 3 (ipykernel)",
   "language": "python",
   "name": "python3"
  },
  "language_info": {
   "codemirror_mode": {
    "name": "ipython",
    "version": 3
   },
   "file_extension": ".py",
   "mimetype": "text/x-python",
   "name": "python",
   "nbconvert_exporter": "python",
   "pygments_lexer": "ipython3",
   "version": "3.7.13"
  }
 },
 "nbformat": 4,
 "nbformat_minor": 5
}
